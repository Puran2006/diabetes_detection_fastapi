{
 "cells": [
  {
   "cell_type": "markdown",
   "id": "7fff8284",
   "metadata": {
    "papermill": {
     "duration": 0.022477,
     "end_time": "2024-06-16T09:04:48.667670",
     "exception": false,
     "start_time": "2024-06-16T09:04:48.645193",
     "status": "completed"
    },
    "tags": []
   },
   "source": [
    "<a id=\"Import\"></a>\n",
    "# <p style=\"background-color: #0093af; font-family:Pacifico; color:#ffffff; font-size:200%; font-family:Pacifico; text-align:center; border-radius:1000px 50px;\">Diabetes Detection Model</p>"
   ]
  },
  {
   "cell_type": "markdown",
   "id": "bb64960d",
   "metadata": {
    "papermill": {
     "duration": 0.021481,
     "end_time": "2024-06-16T09:04:48.711647",
     "exception": false,
     "start_time": "2024-06-16T09:04:48.690166",
     "status": "completed"
    },
    "tags": []
   },
   "source": [
    "# <font color='DarkSlateGrey'>⚑ Importing Libraries</font>"
   ]
  },
  {
   "cell_type": "code",
   "execution_count": 2,
   "id": "9a30b8dd",
   "metadata": {
    "execution": {
     "iopub.execute_input": "2024-06-16T09:04:48.758504Z",
     "iopub.status.busy": "2024-06-16T09:04:48.758003Z",
     "iopub.status.idle": "2024-06-16T09:04:52.093994Z",
     "shell.execute_reply": "2024-06-16T09:04:52.092608Z"
    },
    "papermill": {
     "duration": 3.363848,
     "end_time": "2024-06-16T09:04:52.097166",
     "exception": false,
     "start_time": "2024-06-16T09:04:48.733318",
     "status": "completed"
    },
    "tags": []
   },
   "outputs": [],
   "source": [
    "# Basic Libraries\n",
    "import numpy as np # Numerical Python - arrays, matrices, mathematical functions\n",
    "import pandas as pd\n",
    "import seaborn as sns #  data visualization - statistical graphics\n",
    "import matplotlib.pyplot as plt #  data visualization - plot customization\n",
    "import pickle\n",
    "# Models Libraries\n",
    "from sklearn.model_selection import train_test_split\n",
    "from sklearn.preprocessing import StandardScaler\n",
    "from sklearn.svm import SVC\n",
    "from sklearn.ensemble import RandomForestClassifier\n",
    "from sklearn.linear_model import LogisticRegression\n",
    "\n",
    "# Evaluation Metric Libraries\n",
    "from sklearn.metrics import confusion_matrix, ConfusionMatrixDisplay, classification_report, accuracy_score, precision_score, recall_score,f1_score, roc_auc_score\n",
    "\n",
    "# Warnings\n",
    "import warnings\n",
    "warnings.filterwarnings('ignore')"
   ]
  },
  {
   "cell_type": "markdown",
   "id": "b1edba55",
   "metadata": {
    "papermill": {
     "duration": 0.02212,
     "end_time": "2024-06-16T09:04:52.141262",
     "exception": false,
     "start_time": "2024-06-16T09:04:52.119142",
     "status": "completed"
    },
    "tags": []
   },
   "source": [
    "# <font color='DarkSlateGrey'>⚑ Reading and exploring the dataset</font>"
   ]
  },
  {
   "cell_type": "code",
   "execution_count": 3,
   "id": "595ac209",
   "metadata": {
    "execution": {
     "iopub.execute_input": "2024-06-16T09:04:52.187551Z",
     "iopub.status.busy": "2024-06-16T09:04:52.186786Z",
     "iopub.status.idle": "2024-06-16T09:04:52.216914Z",
     "shell.execute_reply": "2024-06-16T09:04:52.215546Z"
    },
    "papermill": {
     "duration": 0.057406,
     "end_time": "2024-06-16T09:04:52.220536",
     "exception": false,
     "start_time": "2024-06-16T09:04:52.163130",
     "status": "completed"
    },
    "tags": []
   },
   "outputs": [],
   "source": [
    "data = pd.read_csv('diabetes.csv')\n",
    "\n",
    "# Comma-Separated Values (CSV)\n",
    "# Age  ,  Name     ,  Target\n",
    "# 21   ,  John     ,   200\n",
    "# 22   ,  Sara     ,   500\n",
    "# 23   ,  Olivia   ,   700"
   ]
  },
  {
   "cell_type": "code",
   "execution_count": 4,
   "id": "037ec899",
   "metadata": {
    "execution": {
     "iopub.execute_input": "2024-06-16T09:04:52.269081Z",
     "iopub.status.busy": "2024-06-16T09:04:52.268545Z",
     "iopub.status.idle": "2024-06-16T09:04:52.278094Z",
     "shell.execute_reply": "2024-06-16T09:04:52.276875Z"
    },
    "papermill": {
     "duration": 0.036732,
     "end_time": "2024-06-16T09:04:52.281010",
     "exception": false,
     "start_time": "2024-06-16T09:04:52.244278",
     "status": "completed"
    },
    "tags": []
   },
   "outputs": [
    {
     "data": {
      "text/plain": [
       "(1949, 9)"
      ]
     },
     "execution_count": 4,
     "metadata": {},
     "output_type": "execute_result"
    }
   ],
   "source": [
    "data.shape # Dimensions (rows, columns)"
   ]
  },
  {
   "cell_type": "code",
   "execution_count": 5,
   "id": "66279d14",
   "metadata": {
    "execution": {
     "iopub.execute_input": "2024-06-16T09:04:52.331426Z",
     "iopub.status.busy": "2024-06-16T09:04:52.329790Z",
     "iopub.status.idle": "2024-06-16T09:04:52.367095Z",
     "shell.execute_reply": "2024-06-16T09:04:52.365380Z"
    },
    "papermill": {
     "duration": 0.067282,
     "end_time": "2024-06-16T09:04:52.371646",
     "exception": false,
     "start_time": "2024-06-16T09:04:52.304364",
     "status": "completed"
    },
    "tags": []
   },
   "outputs": [
    {
     "data": {
      "text/html": [
       "<div>\n",
       "<style scoped>\n",
       "    .dataframe tbody tr th:only-of-type {\n",
       "        vertical-align: middle;\n",
       "    }\n",
       "\n",
       "    .dataframe tbody tr th {\n",
       "        vertical-align: top;\n",
       "    }\n",
       "\n",
       "    .dataframe thead th {\n",
       "        text-align: right;\n",
       "    }\n",
       "</style>\n",
       "<table border=\"1\" class=\"dataframe\">\n",
       "  <thead>\n",
       "    <tr style=\"text-align: right;\">\n",
       "      <th></th>\n",
       "      <th>Preg</th>\n",
       "      <th>Glucose</th>\n",
       "      <th>BPressure</th>\n",
       "      <th>SThickness</th>\n",
       "      <th>Insulin</th>\n",
       "      <th>BMI</th>\n",
       "      <th>DiabetesPedigreeFunction</th>\n",
       "      <th>Age</th>\n",
       "      <th>Outcome</th>\n",
       "    </tr>\n",
       "  </thead>\n",
       "  <tbody>\n",
       "    <tr>\n",
       "      <th>0</th>\n",
       "      <td>6</td>\n",
       "      <td>148</td>\n",
       "      <td>72</td>\n",
       "      <td>35</td>\n",
       "      <td>0</td>\n",
       "      <td>33.6</td>\n",
       "      <td>0.627</td>\n",
       "      <td>50</td>\n",
       "      <td>1</td>\n",
       "    </tr>\n",
       "    <tr>\n",
       "      <th>1</th>\n",
       "      <td>1</td>\n",
       "      <td>85</td>\n",
       "      <td>66</td>\n",
       "      <td>29</td>\n",
       "      <td>0</td>\n",
       "      <td>26.6</td>\n",
       "      <td>0.351</td>\n",
       "      <td>31</td>\n",
       "      <td>0</td>\n",
       "    </tr>\n",
       "    <tr>\n",
       "      <th>2</th>\n",
       "      <td>8</td>\n",
       "      <td>183</td>\n",
       "      <td>64</td>\n",
       "      <td>0</td>\n",
       "      <td>0</td>\n",
       "      <td>23.3</td>\n",
       "      <td>0.672</td>\n",
       "      <td>32</td>\n",
       "      <td>1</td>\n",
       "    </tr>\n",
       "    <tr>\n",
       "      <th>3</th>\n",
       "      <td>1</td>\n",
       "      <td>89</td>\n",
       "      <td>66</td>\n",
       "      <td>23</td>\n",
       "      <td>94</td>\n",
       "      <td>28.1</td>\n",
       "      <td>0.167</td>\n",
       "      <td>21</td>\n",
       "      <td>0</td>\n",
       "    </tr>\n",
       "    <tr>\n",
       "      <th>4</th>\n",
       "      <td>0</td>\n",
       "      <td>137</td>\n",
       "      <td>40</td>\n",
       "      <td>35</td>\n",
       "      <td>168</td>\n",
       "      <td>43.1</td>\n",
       "      <td>2.288</td>\n",
       "      <td>33</td>\n",
       "      <td>1</td>\n",
       "    </tr>\n",
       "    <tr>\n",
       "      <th>5</th>\n",
       "      <td>5</td>\n",
       "      <td>116</td>\n",
       "      <td>74</td>\n",
       "      <td>0</td>\n",
       "      <td>0</td>\n",
       "      <td>25.6</td>\n",
       "      <td>0.201</td>\n",
       "      <td>30</td>\n",
       "      <td>0</td>\n",
       "    </tr>\n",
       "    <tr>\n",
       "      <th>6</th>\n",
       "      <td>3</td>\n",
       "      <td>78</td>\n",
       "      <td>50</td>\n",
       "      <td>32</td>\n",
       "      <td>88</td>\n",
       "      <td>31.0</td>\n",
       "      <td>0.248</td>\n",
       "      <td>26</td>\n",
       "      <td>1</td>\n",
       "    </tr>\n",
       "    <tr>\n",
       "      <th>7</th>\n",
       "      <td>10</td>\n",
       "      <td>115</td>\n",
       "      <td>0</td>\n",
       "      <td>0</td>\n",
       "      <td>0</td>\n",
       "      <td>35.3</td>\n",
       "      <td>0.134</td>\n",
       "      <td>29</td>\n",
       "      <td>0</td>\n",
       "    </tr>\n",
       "    <tr>\n",
       "      <th>8</th>\n",
       "      <td>2</td>\n",
       "      <td>197</td>\n",
       "      <td>70</td>\n",
       "      <td>45</td>\n",
       "      <td>543</td>\n",
       "      <td>30.5</td>\n",
       "      <td>0.158</td>\n",
       "      <td>53</td>\n",
       "      <td>1</td>\n",
       "    </tr>\n",
       "    <tr>\n",
       "      <th>9</th>\n",
       "      <td>8</td>\n",
       "      <td>125</td>\n",
       "      <td>96</td>\n",
       "      <td>0</td>\n",
       "      <td>0</td>\n",
       "      <td>0.0</td>\n",
       "      <td>0.232</td>\n",
       "      <td>54</td>\n",
       "      <td>1</td>\n",
       "    </tr>\n",
       "  </tbody>\n",
       "</table>\n",
       "</div>"
      ],
      "text/plain": [
       "   Preg  Glucose  BPressure  SThickness  Insulin   BMI  \\\n",
       "0     6      148         72          35        0  33.6   \n",
       "1     1       85         66          29        0  26.6   \n",
       "2     8      183         64           0        0  23.3   \n",
       "3     1       89         66          23       94  28.1   \n",
       "4     0      137         40          35      168  43.1   \n",
       "5     5      116         74           0        0  25.6   \n",
       "6     3       78         50          32       88  31.0   \n",
       "7    10      115          0           0        0  35.3   \n",
       "8     2      197         70          45      543  30.5   \n",
       "9     8      125         96           0        0   0.0   \n",
       "\n",
       "   DiabetesPedigreeFunction  Age  Outcome  \n",
       "0                     0.627   50        1  \n",
       "1                     0.351   31        0  \n",
       "2                     0.672   32        1  \n",
       "3                     0.167   21        0  \n",
       "4                     2.288   33        1  \n",
       "5                     0.201   30        0  \n",
       "6                     0.248   26        1  \n",
       "7                     0.134   29        0  \n",
       "8                     0.158   53        1  \n",
       "9                     0.232   54        1  "
      ]
     },
     "execution_count": 5,
     "metadata": {},
     "output_type": "execute_result"
    }
   ],
   "source": [
    "data.head(10) # first 10 rows/records"
   ]
  },
  {
   "cell_type": "code",
   "execution_count": 6,
   "id": "678badf7",
   "metadata": {
    "execution": {
     "iopub.execute_input": "2024-06-16T09:04:52.485508Z",
     "iopub.status.busy": "2024-06-16T09:04:52.484976Z",
     "iopub.status.idle": "2024-06-16T09:04:52.509071Z",
     "shell.execute_reply": "2024-06-16T09:04:52.507288Z"
    },
    "papermill": {
     "duration": 0.051845,
     "end_time": "2024-06-16T09:04:52.512527",
     "exception": false,
     "start_time": "2024-06-16T09:04:52.460682",
     "status": "completed"
    },
    "tags": []
   },
   "outputs": [
    {
     "data": {
      "text/html": [
       "<div>\n",
       "<style scoped>\n",
       "    .dataframe tbody tr th:only-of-type {\n",
       "        vertical-align: middle;\n",
       "    }\n",
       "\n",
       "    .dataframe tbody tr th {\n",
       "        vertical-align: top;\n",
       "    }\n",
       "\n",
       "    .dataframe thead th {\n",
       "        text-align: right;\n",
       "    }\n",
       "</style>\n",
       "<table border=\"1\" class=\"dataframe\">\n",
       "  <thead>\n",
       "    <tr style=\"text-align: right;\">\n",
       "      <th></th>\n",
       "      <th>Preg</th>\n",
       "      <th>Glucose</th>\n",
       "      <th>BPressure</th>\n",
       "      <th>SThickness</th>\n",
       "      <th>Insulin</th>\n",
       "      <th>BMI</th>\n",
       "      <th>DiabetesPedigreeFunction</th>\n",
       "      <th>Age</th>\n",
       "      <th>Outcome</th>\n",
       "    </tr>\n",
       "  </thead>\n",
       "  <tbody>\n",
       "    <tr>\n",
       "      <th>1939</th>\n",
       "      <td>1</td>\n",
       "      <td>83</td>\n",
       "      <td>68</td>\n",
       "      <td>0</td>\n",
       "      <td>0</td>\n",
       "      <td>18.2</td>\n",
       "      <td>0.624</td>\n",
       "      <td>27</td>\n",
       "      <td>0</td>\n",
       "    </tr>\n",
       "    <tr>\n",
       "      <th>1940</th>\n",
       "      <td>6</td>\n",
       "      <td>124</td>\n",
       "      <td>72</td>\n",
       "      <td>0</td>\n",
       "      <td>0</td>\n",
       "      <td>27.6</td>\n",
       "      <td>0.368</td>\n",
       "      <td>29</td>\n",
       "      <td>1</td>\n",
       "    </tr>\n",
       "    <tr>\n",
       "      <th>1941</th>\n",
       "      <td>2</td>\n",
       "      <td>99</td>\n",
       "      <td>0</td>\n",
       "      <td>0</td>\n",
       "      <td>0</td>\n",
       "      <td>22.2</td>\n",
       "      <td>0.108</td>\n",
       "      <td>23</td>\n",
       "      <td>0</td>\n",
       "    </tr>\n",
       "    <tr>\n",
       "      <th>1942</th>\n",
       "      <td>5</td>\n",
       "      <td>109</td>\n",
       "      <td>62</td>\n",
       "      <td>41</td>\n",
       "      <td>129</td>\n",
       "      <td>35.8</td>\n",
       "      <td>0.514</td>\n",
       "      <td>25</td>\n",
       "      <td>1</td>\n",
       "    </tr>\n",
       "    <tr>\n",
       "      <th>1943</th>\n",
       "      <td>6</td>\n",
       "      <td>107</td>\n",
       "      <td>88</td>\n",
       "      <td>0</td>\n",
       "      <td>0</td>\n",
       "      <td>36.8</td>\n",
       "      <td>0.727</td>\n",
       "      <td>31</td>\n",
       "      <td>0</td>\n",
       "    </tr>\n",
       "    <tr>\n",
       "      <th>1944</th>\n",
       "      <td>6</td>\n",
       "      <td>87</td>\n",
       "      <td>80</td>\n",
       "      <td>0</td>\n",
       "      <td>0</td>\n",
       "      <td>23.2</td>\n",
       "      <td>0.084</td>\n",
       "      <td>32</td>\n",
       "      <td>0</td>\n",
       "    </tr>\n",
       "    <tr>\n",
       "      <th>1945</th>\n",
       "      <td>3</td>\n",
       "      <td>129</td>\n",
       "      <td>64</td>\n",
       "      <td>29</td>\n",
       "      <td>115</td>\n",
       "      <td>26.4</td>\n",
       "      <td>0.219</td>\n",
       "      <td>28</td>\n",
       "      <td>1</td>\n",
       "    </tr>\n",
       "    <tr>\n",
       "      <th>1946</th>\n",
       "      <td>1</td>\n",
       "      <td>100</td>\n",
       "      <td>66</td>\n",
       "      <td>29</td>\n",
       "      <td>196</td>\n",
       "      <td>32.0</td>\n",
       "      <td>0.444</td>\n",
       "      <td>42</td>\n",
       "      <td>0</td>\n",
       "    </tr>\n",
       "    <tr>\n",
       "      <th>1947</th>\n",
       "      <td>2</td>\n",
       "      <td>94</td>\n",
       "      <td>68</td>\n",
       "      <td>18</td>\n",
       "      <td>76</td>\n",
       "      <td>26.0</td>\n",
       "      <td>0.561</td>\n",
       "      <td>21</td>\n",
       "      <td>0</td>\n",
       "    </tr>\n",
       "    <tr>\n",
       "      <th>1948</th>\n",
       "      <td>0</td>\n",
       "      <td>146</td>\n",
       "      <td>82</td>\n",
       "      <td>0</td>\n",
       "      <td>0</td>\n",
       "      <td>40.5</td>\n",
       "      <td>1.781</td>\n",
       "      <td>44</td>\n",
       "      <td>0</td>\n",
       "    </tr>\n",
       "  </tbody>\n",
       "</table>\n",
       "</div>"
      ],
      "text/plain": [
       "      Preg  Glucose  BPressure  SThickness  Insulin   BMI  \\\n",
       "1939     1       83         68           0        0  18.2   \n",
       "1940     6      124         72           0        0  27.6   \n",
       "1941     2       99          0           0        0  22.2   \n",
       "1942     5      109         62          41      129  35.8   \n",
       "1943     6      107         88           0        0  36.8   \n",
       "1944     6       87         80           0        0  23.2   \n",
       "1945     3      129         64          29      115  26.4   \n",
       "1946     1      100         66          29      196  32.0   \n",
       "1947     2       94         68          18       76  26.0   \n",
       "1948     0      146         82           0        0  40.5   \n",
       "\n",
       "      DiabetesPedigreeFunction  Age  Outcome  \n",
       "1939                     0.624   27        0  \n",
       "1940                     0.368   29        1  \n",
       "1941                     0.108   23        0  \n",
       "1942                     0.514   25        1  \n",
       "1943                     0.727   31        0  \n",
       "1944                     0.084   32        0  \n",
       "1945                     0.219   28        1  \n",
       "1946                     0.444   42        0  \n",
       "1947                     0.561   21        0  \n",
       "1948                     1.781   44        0  "
      ]
     },
     "execution_count": 6,
     "metadata": {},
     "output_type": "execute_result"
    }
   ],
   "source": [
    "data.tail(10)"
   ]
  },
  {
   "cell_type": "code",
   "execution_count": 7,
   "id": "f963fa72",
   "metadata": {
    "execution": {
     "iopub.execute_input": "2024-06-16T09:04:52.577853Z",
     "iopub.status.busy": "2024-06-16T09:04:52.576565Z",
     "iopub.status.idle": "2024-06-16T09:04:52.592563Z",
     "shell.execute_reply": "2024-06-16T09:04:52.590168Z"
    },
    "papermill": {
     "duration": 0.055676,
     "end_time": "2024-06-16T09:04:52.596122",
     "exception": false,
     "start_time": "2024-06-16T09:04:52.540446",
     "status": "completed"
    },
    "tags": []
   },
   "outputs": [
    {
     "data": {
      "text/plain": [
       "Preg                          int64\n",
       "Glucose                       int64\n",
       "BPressure                     int64\n",
       "SThickness                    int64\n",
       "Insulin                       int64\n",
       "BMI                         float64\n",
       "DiabetesPedigreeFunction    float64\n",
       "Age                           int64\n",
       "Outcome                       int64\n",
       "dtype: object"
      ]
     },
     "execution_count": 7,
     "metadata": {},
     "output_type": "execute_result"
    }
   ],
   "source": [
    "data.dtypes"
   ]
  },
  {
   "cell_type": "markdown",
   "id": "96f68c7a",
   "metadata": {
    "papermill": {
     "duration": 0.027844,
     "end_time": "2024-06-16T09:04:52.655812",
     "exception": false,
     "start_time": "2024-06-16T09:04:52.627968",
     "status": "completed"
    },
    "tags": []
   },
   "source": [
    "# <font color='DarkSlateGrey'>⚑ Handling Missing Values</font>"
   ]
  },
  {
   "cell_type": "code",
   "execution_count": 8,
   "id": "90004808",
   "metadata": {
    "execution": {
     "iopub.execute_input": "2024-06-16T09:04:52.703880Z",
     "iopub.status.busy": "2024-06-16T09:04:52.703366Z",
     "iopub.status.idle": "2024-06-16T09:04:52.712827Z",
     "shell.execute_reply": "2024-06-16T09:04:52.711123Z"
    },
    "papermill": {
     "duration": 0.037573,
     "end_time": "2024-06-16T09:04:52.716333",
     "exception": false,
     "start_time": "2024-06-16T09:04:52.678760",
     "status": "completed"
    },
    "tags": []
   },
   "outputs": [
    {
     "name": "stdout",
     "output_type": "stream",
     "text": [
      "There aren't missing values in the dataset.\n"
     ]
    }
   ],
   "source": [
    "if data.isnull().values.any():\n",
    "    print('Sorry Dear,there are missing values in the dataset\\n')\n",
    "    data.dropna(inplace=True)\n",
    "    print('Shape : ', data.shape) \n",
    "else:\n",
    "    print('There aren\\'t missing values in the dataset.')"
   ]
  },
  {
   "cell_type": "markdown",
   "id": "09be83d9",
   "metadata": {
    "papermill": {
     "duration": 0.024431,
     "end_time": "2024-06-16T09:04:52.769594",
     "exception": false,
     "start_time": "2024-06-16T09:04:52.745163",
     "status": "completed"
    },
    "tags": []
   },
   "source": [
    "# <font color='DarkSlateGrey'>⚑ Handling Outliers</font>"
   ]
  },
  {
   "cell_type": "code",
   "execution_count": 9,
   "id": "603cc1f1",
   "metadata": {
    "execution": {
     "iopub.execute_input": "2024-06-16T09:04:52.823777Z",
     "iopub.status.busy": "2024-06-16T09:04:52.823332Z",
     "iopub.status.idle": "2024-06-16T09:04:53.287781Z",
     "shell.execute_reply": "2024-06-16T09:04:53.286228Z"
    },
    "papermill": {
     "duration": 0.493541,
     "end_time": "2024-06-16T09:04:53.290750",
     "exception": false,
     "start_time": "2024-06-16T09:04:52.797209",
     "status": "completed"
    },
    "tags": []
   },
   "outputs": [
    {
     "data": {
      "image/png": "[encoded data removed]",
      "text/plain": [
       "<Figure size 1000x600 with 1 Axes>"
      ]
     },
     "metadata": {},
     "output_type": "display_data"
    }
   ],
   "source": [
    "\n",
    "plt.figure(figsize=(10, 6))\n",
    "sns.boxplot(data=data, orient='h') # horizontal\n",
    "plt.title('Outlier check')\n",
    "plt.grid(axis='y')\n",
    "plt.show()"
   ]
  },
  {
   "cell_type": "markdown",
   "id": "76150840",
   "metadata": {
    "papermill": {
     "duration": 0.023302,
     "end_time": "2024-06-16T09:04:53.337933",
     "exception": false,
     "start_time": "2024-06-16T09:04:53.314631",
     "status": "completed"
    },
    "tags": []
   },
   "source": [
    "# <font color='DarkSlateGrey'>⚑ Using : IQR</font>"
   ]
  },
  {
   "attachments": {
    "c2232e28-205a-4ced-9f97-9d8e28d3b18f.png": {
     "image/png": "[encoded data removed]"
    }
   },
   "cell_type": "markdown",
   "id": "63bb1d88",
   "metadata": {
    "papermill": {
     "duration": 0.025798,
     "end_time": "2024-06-16T09:04:53.387508",
     "exception": false,
     "start_time": "2024-06-16T09:04:53.361710",
     "status": "completed"
    },
    "tags": []
   },
   "source": [
    "![IQR.png](attachment:c2232e28-205a-4ced-9f97-9d8e28d3b18f.png)"
   ]
  },
  {
   "cell_type": "code",
   "execution_count": 10,
   "id": "667bed48",
   "metadata": {
    "execution": {
     "iopub.execute_input": "2024-06-16T09:04:53.437732Z",
     "iopub.status.busy": "2024-06-16T09:04:53.437266Z",
     "iopub.status.idle": "2024-06-16T09:04:53.797385Z",
     "shell.execute_reply": "2024-06-16T09:04:53.796230Z"
    },
    "papermill": {
     "duration": 0.388662,
     "end_time": "2024-06-16T09:04:53.800230",
     "exception": false,
     "start_time": "2024-06-16T09:04:53.411568",
     "status": "completed"
    },
    "tags": []
   },
   "outputs": [
    {
     "name": "stdout",
     "output_type": "stream",
     "text": [
      "Outliers detected in the dataset. Removing them...\n",
      "Outliers removed. Data shape: (1595, 9) \n",
      "\n"
     ]
    },
    {
     "data": {
      "image/png": "[encoded data removed]",
      "text/plain": [
       "<Figure size 1000x600 with 1 Axes>"
      ]
     },
     "metadata": {},
     "output_type": "display_data"
    }
   ],
   "source": [
    "# Calculate the first quartile (Q1) and third quartile (Q3)\n",
    "Q1 = data.quantile(0.25)\n",
    "Q3 = data.quantile(0.75)\n",
    "\n",
    "# Calculate the interquartile range (IQR)\n",
    "IQR = Q3 - Q1\n",
    "\n",
    "# Define the lower and upper bounds for outlier detection\n",
    "lower_bound = Q1 - 1.5 * IQR\n",
    "upper_bound = Q3 + 1.5 * IQR\n",
    "\n",
    "# Identify outliers\n",
    "outliers = (data < lower_bound) | (data > upper_bound)\n",
    "\n",
    "# Check if there are any outliers\n",
    "if outliers.any().any():\n",
    "    print('Outliers detected in the dataset. Removing them...')\n",
    "    \n",
    "    # Remove outliers\n",
    "    data = data[~outliers.any(axis=1)]\n",
    "    data.reset_index(drop=True, inplace=True)\n",
    "    \n",
    "    print('Outliers removed. Data shape:', data.shape, '\\n')\n",
    "\n",
    "    plt.figure(figsize=(10, 6))\n",
    "    sns.boxplot(data=data, orient='h') # horizontal\n",
    "    plt.title('After Handling Outliers')\n",
    "    plt.grid(axis='y')\n",
    "    plt.show()\n",
    "else:\n",
    "    print('No outliers detected in the dataset.')"
   ]
  },
  {
   "cell_type": "code",
   "execution_count": 11,
   "id": "c7bdc9d0",
   "metadata": {
    "execution": {
     "iopub.execute_input": "2024-06-16T09:04:53.853735Z",
     "iopub.status.busy": "2024-06-16T09:04:53.853270Z",
     "iopub.status.idle": "2024-06-16T09:04:53.861316Z",
     "shell.execute_reply": "2024-06-16T09:04:53.860153Z"
    },
    "papermill": {
     "duration": 0.03847,
     "end_time": "2024-06-16T09:04:53.863965",
     "exception": false,
     "start_time": "2024-06-16T09:04:53.825495",
     "status": "completed"
    },
    "tags": []
   },
   "outputs": [
    {
     "data": {
      "text/plain": [
       "Index(['Preg', 'Glucose', 'BPressure', 'SThickness', 'Insulin', 'BMI',\n",
       "       'DiabetesPedigreeFunction', 'Age', 'Outcome'],\n",
       "      dtype='object')"
      ]
     },
     "execution_count": 11,
     "metadata": {},
     "output_type": "execute_result"
    }
   ],
   "source": [
    "data.columns"
   ]
  },
  {
   "cell_type": "markdown",
   "id": "9cd906c2",
   "metadata": {
    "papermill": {
     "duration": 0.024858,
     "end_time": "2024-06-16T09:04:53.913992",
     "exception": false,
     "start_time": "2024-06-16T09:04:53.889134",
     "status": "completed"
    },
    "tags": []
   },
   "source": [
    "# <font color='DarkSlateGrey'>⚑ Analysis and exploration of categories of the \"Outcome\" feature</font>"
   ]
  },
  {
   "cell_type": "code",
   "execution_count": 12,
   "id": "1b991751",
   "metadata": {
    "execution": {
     "iopub.execute_input": "2024-06-16T09:04:53.968681Z",
     "iopub.status.busy": "2024-06-16T09:04:53.967301Z",
     "iopub.status.idle": "2024-06-16T09:04:53.978081Z",
     "shell.execute_reply": "2024-06-16T09:04:53.976948Z"
    },
    "papermill": {
     "duration": 0.040069,
     "end_time": "2024-06-16T09:04:53.980619",
     "exception": false,
     "start_time": "2024-06-16T09:04:53.940550",
     "status": "completed"
    },
    "tags": []
   },
   "outputs": [
    {
     "data": {
      "text/plain": [
       "array([1, 0])"
      ]
     },
     "execution_count": 12,
     "metadata": {},
     "output_type": "execute_result"
    }
   ],
   "source": [
    "# check labels in \"Outcome\" feature\n",
    "data['Outcome'].unique()"
   ]
  },
  {
   "cell_type": "code",
   "execution_count": 13,
   "id": "20605fe3",
   "metadata": {
    "execution": {
     "iopub.execute_input": "2024-06-16T09:04:54.033540Z",
     "iopub.status.busy": "2024-06-16T09:04:54.033026Z",
     "iopub.status.idle": "2024-06-16T09:04:54.045579Z",
     "shell.execute_reply": "2024-06-16T09:04:54.044455Z"
    },
    "papermill": {
     "duration": 0.042094,
     "end_time": "2024-06-16T09:04:54.048092",
     "exception": false,
     "start_time": "2024-06-16T09:04:54.005998",
     "status": "completed"
    },
    "tags": []
   },
   "outputs": [
    {
     "data": {
      "text/plain": [
       "Outcome\n",
       "0    1023\n",
       "1     572\n",
       "Name: count, dtype: int64"
      ]
     },
     "execution_count": 13,
     "metadata": {},
     "output_type": "execute_result"
    }
   ],
   "source": [
    "data['Outcome'].value_counts()"
   ]
  },
  {
   "cell_type": "code",
   "execution_count": 14,
   "id": "34ea4833",
   "metadata": {
    "execution": {
     "iopub.execute_input": "2024-06-16T09:04:54.378436Z",
     "iopub.status.busy": "2024-06-16T09:04:54.378025Z",
     "iopub.status.idle": "2024-06-16T09:04:54.513232Z",
     "shell.execute_reply": "2024-06-16T09:04:54.511979Z"
    },
    "papermill": {
     "duration": 0.170112,
     "end_time": "2024-06-16T09:04:54.519988",
     "exception": false,
     "start_time": "2024-06-16T09:04:54.349876",
     "status": "completed"
    },
    "tags": []
   },
   "outputs": [
    {
     "data": {
      "image/png": "[encoded data removed]",
      "text/plain": [
       "<Figure size 640x480 with 1 Axes>"
      ]
     },
     "metadata": {},
     "output_type": "display_data"
    }
   ],
   "source": [
    "plt.pie(data.Outcome.value_counts().values , labels=data.Outcome.value_counts().index,autopct='%1.1f%%')\n",
    "plt.title('Class Distribution')\n",
    "plt.show()"
   ]
  },
  {
   "cell_type": "code",
   "execution_count": 15,
   "id": "5a374859",
   "metadata": {
    "execution": {
     "iopub.execute_input": "2024-06-16T09:04:54.682259Z",
     "iopub.status.busy": "2024-06-16T09:04:54.681824Z",
     "iopub.status.idle": "2024-06-16T09:04:54.697495Z",
     "shell.execute_reply": "2024-06-16T09:04:54.696403Z"
    },
    "papermill": {
     "duration": 0.046236,
     "end_time": "2024-06-16T09:04:54.700142",
     "exception": false,
     "start_time": "2024-06-16T09:04:54.653906",
     "status": "completed"
    },
    "tags": []
   },
   "outputs": [
    {
     "data": {
      "text/html": [
       "<div>\n",
       "<style scoped>\n",
       "    .dataframe tbody tr th:only-of-type {\n",
       "        vertical-align: middle;\n",
       "    }\n",
       "\n",
       "    .dataframe tbody tr th {\n",
       "        vertical-align: top;\n",
       "    }\n",
       "\n",
       "    .dataframe thead th {\n",
       "        text-align: right;\n",
       "    }\n",
       "</style>\n",
       "<table border=\"1\" class=\"dataframe\">\n",
       "  <thead>\n",
       "    <tr style=\"text-align: right;\">\n",
       "      <th></th>\n",
       "      <th>Preg</th>\n",
       "      <th>Glucose</th>\n",
       "      <th>BPressure</th>\n",
       "      <th>SThickness</th>\n",
       "      <th>Insulin</th>\n",
       "      <th>BMI</th>\n",
       "      <th>DiabetesPedigreeFunction</th>\n",
       "      <th>Age</th>\n",
       "      <th>Outcome</th>\n",
       "    </tr>\n",
       "  </thead>\n",
       "  <tbody>\n",
       "    <tr>\n",
       "      <th>0</th>\n",
       "      <td>6</td>\n",
       "      <td>148</td>\n",
       "      <td>72</td>\n",
       "      <td>35</td>\n",
       "      <td>0</td>\n",
       "      <td>33.6</td>\n",
       "      <td>0.627</td>\n",
       "      <td>50</td>\n",
       "      <td>1</td>\n",
       "    </tr>\n",
       "    <tr>\n",
       "      <th>1</th>\n",
       "      <td>1</td>\n",
       "      <td>85</td>\n",
       "      <td>66</td>\n",
       "      <td>29</td>\n",
       "      <td>0</td>\n",
       "      <td>26.6</td>\n",
       "      <td>0.351</td>\n",
       "      <td>31</td>\n",
       "      <td>0</td>\n",
       "    </tr>\n",
       "    <tr>\n",
       "      <th>2</th>\n",
       "      <td>8</td>\n",
       "      <td>183</td>\n",
       "      <td>64</td>\n",
       "      <td>0</td>\n",
       "      <td>0</td>\n",
       "      <td>23.3</td>\n",
       "      <td>0.672</td>\n",
       "      <td>32</td>\n",
       "      <td>1</td>\n",
       "    </tr>\n",
       "    <tr>\n",
       "      <th>3</th>\n",
       "      <td>1</td>\n",
       "      <td>89</td>\n",
       "      <td>66</td>\n",
       "      <td>23</td>\n",
       "      <td>94</td>\n",
       "      <td>28.1</td>\n",
       "      <td>0.167</td>\n",
       "      <td>21</td>\n",
       "      <td>0</td>\n",
       "    </tr>\n",
       "    <tr>\n",
       "      <th>4</th>\n",
       "      <td>5</td>\n",
       "      <td>116</td>\n",
       "      <td>74</td>\n",
       "      <td>0</td>\n",
       "      <td>0</td>\n",
       "      <td>25.6</td>\n",
       "      <td>0.201</td>\n",
       "      <td>30</td>\n",
       "      <td>0</td>\n",
       "    </tr>\n",
       "  </tbody>\n",
       "</table>\n",
       "</div>"
      ],
      "text/plain": [
       "   Preg  Glucose  BPressure  SThickness  Insulin   BMI  \\\n",
       "0     6      148         72          35        0  33.6   \n",
       "1     1       85         66          29        0  26.6   \n",
       "2     8      183         64           0        0  23.3   \n",
       "3     1       89         66          23       94  28.1   \n",
       "4     5      116         74           0        0  25.6   \n",
       "\n",
       "   DiabetesPedigreeFunction  Age  Outcome  \n",
       "0                     0.627   50        1  \n",
       "1                     0.351   31        0  \n",
       "2                     0.672   32        1  \n",
       "3                     0.167   21        0  \n",
       "4                     0.201   30        0  "
      ]
     },
     "execution_count": 15,
     "metadata": {},
     "output_type": "execute_result"
    }
   ],
   "source": [
    "data.head()"
   ]
  },
  {
   "cell_type": "markdown",
   "id": "820f7404",
   "metadata": {
    "papermill": {
     "duration": 0.026637,
     "end_time": "2024-06-16T09:04:54.754553",
     "exception": false,
     "start_time": "2024-06-16T09:04:54.727916",
     "status": "completed"
    },
    "tags": []
   },
   "source": [
    "# <font color='DarkSlateGrey'>⚑ The Correlations between features</font>"
   ]
  },
  {
   "cell_type": "code",
   "execution_count": 16,
   "id": "e57ab4b8",
   "metadata": {
    "execution": {
     "iopub.execute_input": "2024-06-16T09:04:54.810767Z",
     "iopub.status.busy": "2024-06-16T09:04:54.810311Z",
     "iopub.status.idle": "2024-06-16T09:04:54.831820Z",
     "shell.execute_reply": "2024-06-16T09:04:54.830510Z"
    },
    "papermill": {
     "duration": 0.052698,
     "end_time": "2024-06-16T09:04:54.834518",
     "exception": false,
     "start_time": "2024-06-16T09:04:54.781820",
     "status": "completed"
    },
    "tags": []
   },
   "outputs": [
    {
     "data": {
      "text/html": [
       "<div>\n",
       "<style scoped>\n",
       "    .dataframe tbody tr th:only-of-type {\n",
       "        vertical-align: middle;\n",
       "    }\n",
       "\n",
       "    .dataframe tbody tr th {\n",
       "        vertical-align: top;\n",
       "    }\n",
       "\n",
       "    .dataframe thead th {\n",
       "        text-align: right;\n",
       "    }\n",
       "</style>\n",
       "<table border=\"1\" class=\"dataframe\">\n",
       "  <thead>\n",
       "    <tr style=\"text-align: right;\">\n",
       "      <th></th>\n",
       "      <th>Preg</th>\n",
       "      <th>Glucose</th>\n",
       "      <th>BPressure</th>\n",
       "      <th>SThickness</th>\n",
       "      <th>Insulin</th>\n",
       "      <th>BMI</th>\n",
       "      <th>DiabetesPedigreeFunction</th>\n",
       "      <th>Age</th>\n",
       "      <th>Outcome</th>\n",
       "    </tr>\n",
       "  </thead>\n",
       "  <tbody>\n",
       "    <tr>\n",
       "      <th>Preg</th>\n",
       "      <td>1.000000</td>\n",
       "      <td>0.223989</td>\n",
       "      <td>0.216325</td>\n",
       "      <td>-0.064008</td>\n",
       "      <td>-0.096591</td>\n",
       "      <td>0.120975</td>\n",
       "      <td>0.048574</td>\n",
       "      <td>0.649665</td>\n",
       "      <td>0.248378</td>\n",
       "    </tr>\n",
       "    <tr>\n",
       "      <th>Glucose</th>\n",
       "      <td>0.223989</td>\n",
       "      <td>1.000000</td>\n",
       "      <td>0.287373</td>\n",
       "      <td>-0.008498</td>\n",
       "      <td>0.254790</td>\n",
       "      <td>0.242670</td>\n",
       "      <td>0.049341</td>\n",
       "      <td>0.285438</td>\n",
       "      <td>0.465094</td>\n",
       "    </tr>\n",
       "    <tr>\n",
       "      <th>BPressure</th>\n",
       "      <td>0.216325</td>\n",
       "      <td>0.287373</td>\n",
       "      <td>1.000000</td>\n",
       "      <td>0.055151</td>\n",
       "      <td>0.018250</td>\n",
       "      <td>0.349570</td>\n",
       "      <td>-0.011516</td>\n",
       "      <td>0.368813</td>\n",
       "      <td>0.184187</td>\n",
       "    </tr>\n",
       "    <tr>\n",
       "      <th>SThickness</th>\n",
       "      <td>-0.064008</td>\n",
       "      <td>-0.008498</td>\n",
       "      <td>0.055151</td>\n",
       "      <td>1.000000</td>\n",
       "      <td>0.498133</td>\n",
       "      <td>0.379566</td>\n",
       "      <td>0.074872</td>\n",
       "      <td>-0.132153</td>\n",
       "      <td>0.028317</td>\n",
       "    </tr>\n",
       "    <tr>\n",
       "      <th>Insulin</th>\n",
       "      <td>-0.096591</td>\n",
       "      <td>0.254790</td>\n",
       "      <td>0.018250</td>\n",
       "      <td>0.498133</td>\n",
       "      <td>1.000000</td>\n",
       "      <td>0.222661</td>\n",
       "      <td>0.133848</td>\n",
       "      <td>-0.015656</td>\n",
       "      <td>0.110431</td>\n",
       "    </tr>\n",
       "    <tr>\n",
       "      <th>BMI</th>\n",
       "      <td>0.120975</td>\n",
       "      <td>0.242670</td>\n",
       "      <td>0.349570</td>\n",
       "      <td>0.379566</td>\n",
       "      <td>0.222661</td>\n",
       "      <td>1.000000</td>\n",
       "      <td>0.084645</td>\n",
       "      <td>0.122952</td>\n",
       "      <td>0.284287</td>\n",
       "    </tr>\n",
       "    <tr>\n",
       "      <th>DiabetesPedigreeFunction</th>\n",
       "      <td>0.048574</td>\n",
       "      <td>0.049341</td>\n",
       "      <td>-0.011516</td>\n",
       "      <td>0.074872</td>\n",
       "      <td>0.133848</td>\n",
       "      <td>0.084645</td>\n",
       "      <td>1.000000</td>\n",
       "      <td>0.047793</td>\n",
       "      <td>0.197236</td>\n",
       "    </tr>\n",
       "    <tr>\n",
       "      <th>Age</th>\n",
       "      <td>0.649665</td>\n",
       "      <td>0.285438</td>\n",
       "      <td>0.368813</td>\n",
       "      <td>-0.132153</td>\n",
       "      <td>-0.015656</td>\n",
       "      <td>0.122952</td>\n",
       "      <td>0.047793</td>\n",
       "      <td>1.000000</td>\n",
       "      <td>0.274999</td>\n",
       "    </tr>\n",
       "    <tr>\n",
       "      <th>Outcome</th>\n",
       "      <td>0.248378</td>\n",
       "      <td>0.465094</td>\n",
       "      <td>0.184187</td>\n",
       "      <td>0.028317</td>\n",
       "      <td>0.110431</td>\n",
       "      <td>0.284287</td>\n",
       "      <td>0.197236</td>\n",
       "      <td>0.274999</td>\n",
       "      <td>1.000000</td>\n",
       "    </tr>\n",
       "  </tbody>\n",
       "</table>\n",
       "</div>"
      ],
      "text/plain": [
       "                              Preg   Glucose  BPressure  SThickness   Insulin  \\\n",
       "Preg                      1.000000  0.223989   0.216325   -0.064008 -0.096591   \n",
       "Glucose                   0.223989  1.000000   0.287373   -0.008498  0.254790   \n",
       "BPressure                 0.216325  0.287373   1.000000    0.055151  0.018250   \n",
       "SThickness               -0.064008 -0.008498   0.055151    1.000000  0.498133   \n",
       "Insulin                  -0.096591  0.254790   0.018250    0.498133  1.000000   \n",
       "BMI                       0.120975  0.242670   0.349570    0.379566  0.222661   \n",
       "DiabetesPedigreeFunction  0.048574  0.049341  -0.011516    0.074872  0.133848   \n",
       "Age                       0.649665  0.285438   0.368813   -0.132153 -0.015656   \n",
       "Outcome                   0.248378  0.465094   0.184187    0.028317  0.110431   \n",
       "\n",
       "                               BMI  DiabetesPedigreeFunction       Age  \\\n",
       "Preg                      0.120975                  0.048574  0.649665   \n",
       "Glucose                   0.242670                  0.049341  0.285438   \n",
       "BPressure                 0.349570                 -0.011516  0.368813   \n",
       "SThickness                0.379566                  0.074872 -0.132153   \n",
       "Insulin                   0.222661                  0.133848 -0.015656   \n",
       "BMI                       1.000000                  0.084645  0.122952   \n",
       "DiabetesPedigreeFunction  0.084645                  1.000000  0.047793   \n",
       "Age                       0.122952                  0.047793  1.000000   \n",
       "Outcome                   0.284287                  0.197236  0.274999   \n",
       "\n",
       "                           Outcome  \n",
       "Preg                      0.248378  \n",
       "Glucose                   0.465094  \n",
       "BPressure                 0.184187  \n",
       "SThickness                0.028317  \n",
       "Insulin                   0.110431  \n",
       "BMI                       0.284287  \n",
       "DiabetesPedigreeFunction  0.197236  \n",
       "Age                       0.274999  \n",
       "Outcome                   1.000000  "
      ]
     },
     "execution_count": 16,
     "metadata": {},
     "output_type": "execute_result"
    }
   ],
   "source": [
    "# The correlation between features\n",
    "# Understanding the correlation between various features in the dataset\n",
    "# Select only the numeric columns\n",
    "\n",
    "data.corr()"
   ]
  },
  {
   "cell_type": "code",
   "execution_count": 17,
   "id": "a0251eb4",
   "metadata": {
    "execution": {
     "iopub.execute_input": "2024-06-16T09:04:54.891626Z",
     "iopub.status.busy": "2024-06-16T09:04:54.890218Z",
     "iopub.status.idle": "2024-06-16T09:04:55.443593Z",
     "shell.execute_reply": "2024-06-16T09:04:55.442102Z"
    },
    "papermill": {
     "duration": 0.585132,
     "end_time": "2024-06-16T09:04:55.446690",
     "exception": false,
     "start_time": "2024-06-16T09:04:54.861558",
     "status": "completed"
    },
    "tags": []
   },
   "outputs": [
    {
     "data": {
      "image/png": "[encoded data removed]",
      "text/plain": [
       "<Figure size 800x800 with 2 Axes>"
      ]
     },
     "metadata": {},
     "output_type": "display_data"
    }
   ],
   "source": [
    "plt.figure(figsize=(8, 8))\n",
    "sns.heatmap(data.corr(), annot=True, linewidths=0.9, fmt=\".1f\", cmap='RdYlBu')\n",
    "plt.show()"
   ]
  },
  {
   "cell_type": "markdown",
   "id": "acf31896",
   "metadata": {
    "papermill": {
     "duration": 0.027297,
     "end_time": "2024-06-16T09:04:55.501767",
     "exception": false,
     "start_time": "2024-06-16T09:04:55.474470",
     "status": "completed"
    },
    "tags": []
   },
   "source": [
    "# <font color='DarkSlateGrey'>⚑ The correlation between each feature and the \"Outcome\"</font>"
   ]
  },
  {
   "cell_type": "code",
   "execution_count": 18,
   "id": "8929d8b2",
   "metadata": {
    "execution": {
     "iopub.execute_input": "2024-06-16T09:04:55.561105Z",
     "iopub.status.busy": "2024-06-16T09:04:55.560689Z",
     "iopub.status.idle": "2024-06-16T09:04:55.672502Z",
     "shell.execute_reply": "2024-06-16T09:04:55.671198Z"
    },
    "papermill": {
     "duration": 0.144704,
     "end_time": "2024-06-16T09:04:55.675340",
     "exception": false,
     "start_time": "2024-06-16T09:04:55.530636",
     "status": "completed"
    },
    "tags": []
   },
   "outputs": [
    {
     "data": {
      "text/html": [
       "<style type=\"text/css\">\n",
       "#T_561ce_row0_col0 {\n",
       "  background-color: #313695;\n",
       "  color: #f1f1f1;\n",
       "}\n",
       "#T_561ce_row1_col0 {\n",
       "  background-color: #fff0a8;\n",
       "  color: #000000;\n",
       "}\n",
       "#T_561ce_row2_col0 {\n",
       "  background-color: #fa9656;\n",
       "  color: #000000;\n",
       "}\n",
       "#T_561ce_row3_col0 {\n",
       "  background-color: #f98e52;\n",
       "  color: #f1f1f1;\n",
       "}\n",
       "#T_561ce_row4_col0 {\n",
       "  background-color: #f67c4a;\n",
       "  color: #f1f1f1;\n",
       "}\n",
       "#T_561ce_row5_col0 {\n",
       "  background-color: #ec5c3b;\n",
       "  color: #f1f1f1;\n",
       "}\n",
       "#T_561ce_row6_col0 {\n",
       "  background-color: #e95538;\n",
       "  color: #f1f1f1;\n",
       "}\n",
       "#T_561ce_row7_col0 {\n",
       "  background-color: #ce2827;\n",
       "  color: #f1f1f1;\n",
       "}\n",
       "#T_561ce_row8_col0 {\n",
       "  background-color: #a50026;\n",
       "  color: #f1f1f1;\n",
       "}\n",
       "</style>\n",
       "<table id=\"T_561ce\">\n",
       "  <thead>\n",
       "    <tr>\n",
       "      <th class=\"blank level0\" >&nbsp;</th>\n",
       "      <th id=\"T_561ce_level0_col0\" class=\"col_heading level0 col0\" >Outcome</th>\n",
       "    </tr>\n",
       "  </thead>\n",
       "  <tbody>\n",
       "    <tr>\n",
       "      <th id=\"T_561ce_level0_row0\" class=\"row_heading level0 row0\" >Outcome</th>\n",
       "      <td id=\"T_561ce_row0_col0\" class=\"data row0 col0\" >1.000000</td>\n",
       "    </tr>\n",
       "    <tr>\n",
       "      <th id=\"T_561ce_level0_row1\" class=\"row_heading level0 row1\" >Glucose</th>\n",
       "      <td id=\"T_561ce_row1_col0\" class=\"data row1 col0\" >0.465094</td>\n",
       "    </tr>\n",
       "    <tr>\n",
       "      <th id=\"T_561ce_level0_row2\" class=\"row_heading level0 row2\" >BMI</th>\n",
       "      <td id=\"T_561ce_row2_col0\" class=\"data row2 col0\" >0.284287</td>\n",
       "    </tr>\n",
       "    <tr>\n",
       "      <th id=\"T_561ce_level0_row3\" class=\"row_heading level0 row3\" >Age</th>\n",
       "      <td id=\"T_561ce_row3_col0\" class=\"data row3 col0\" >0.274999</td>\n",
       "    </tr>\n",
       "    <tr>\n",
       "      <th id=\"T_561ce_level0_row4\" class=\"row_heading level0 row4\" >Preg</th>\n",
       "      <td id=\"T_561ce_row4_col0\" class=\"data row4 col0\" >0.248378</td>\n",
       "    </tr>\n",
       "    <tr>\n",
       "      <th id=\"T_561ce_level0_row5\" class=\"row_heading level0 row5\" >DiabetesPedigreeFunction</th>\n",
       "      <td id=\"T_561ce_row5_col0\" class=\"data row5 col0\" >0.197236</td>\n",
       "    </tr>\n",
       "    <tr>\n",
       "      <th id=\"T_561ce_level0_row6\" class=\"row_heading level0 row6\" >BPressure</th>\n",
       "      <td id=\"T_561ce_row6_col0\" class=\"data row6 col0\" >0.184187</td>\n",
       "    </tr>\n",
       "    <tr>\n",
       "      <th id=\"T_561ce_level0_row7\" class=\"row_heading level0 row7\" >Insulin</th>\n",
       "      <td id=\"T_561ce_row7_col0\" class=\"data row7 col0\" >0.110431</td>\n",
       "    </tr>\n",
       "    <tr>\n",
       "      <th id=\"T_561ce_level0_row8\" class=\"row_heading level0 row8\" >SThickness</th>\n",
       "      <td id=\"T_561ce_row8_col0\" class=\"data row8 col0\" >0.028317</td>\n",
       "    </tr>\n",
       "  </tbody>\n",
       "</table>\n"
      ],
      "text/plain": [
       "<pandas.io.formats.style.Styler at 0x1ff43249e80>"
      ]
     },
     "execution_count": 18,
     "metadata": {},
     "output_type": "execute_result"
    }
   ],
   "source": [
    "corr = data[['Preg', 'Glucose', 'BPressure', 'SThickness','Insulin','BMI','DiabetesPedigreeFunction', 'Age','Outcome']].corr()['Outcome'].sort_values(ascending = False)\n",
    "corr = corr.to_frame()\n",
    "corr.style.background_gradient(cmap=\"RdYlBu\")"
   ]
  },
  {
   "cell_type": "markdown",
   "id": "2ca76490",
   "metadata": {
    "papermill": {
     "duration": 0.02875,
     "end_time": "2024-06-16T09:04:55.732990",
     "exception": false,
     "start_time": "2024-06-16T09:04:55.704240",
     "status": "completed"
    },
    "tags": []
   },
   "source": [
    "# <font color='DarkSlateGrey'>⚑ Dropping feature/s based on the correlation</font>"
   ]
  },
  {
   "cell_type": "code",
   "execution_count": 19,
   "id": "d7c64f9f",
   "metadata": {
    "execution": {
     "iopub.execute_input": "2024-06-16T09:04:55.794219Z",
     "iopub.status.busy": "2024-06-16T09:04:55.792886Z",
     "iopub.status.idle": "2024-06-16T09:04:55.800521Z",
     "shell.execute_reply": "2024-06-16T09:04:55.799186Z"
    },
    "papermill": {
     "duration": 0.040948,
     "end_time": "2024-06-16T09:04:55.803233",
     "exception": false,
     "start_time": "2024-06-16T09:04:55.762285",
     "status": "completed"
    },
    "tags": []
   },
   "outputs": [],
   "source": [
    "data.drop(['SThickness'], inplace=True, axis=1)"
   ]
  },
  {
   "cell_type": "code",
   "execution_count": 20,
   "id": "65cee26b",
   "metadata": {
    "execution": {
     "iopub.execute_input": "2024-06-16T09:04:55.861702Z",
     "iopub.status.busy": "2024-06-16T09:04:55.861057Z",
     "iopub.status.idle": "2024-06-16T09:04:55.878236Z",
     "shell.execute_reply": "2024-06-16T09:04:55.876812Z"
    },
    "papermill": {
     "duration": 0.049399,
     "end_time": "2024-06-16T09:04:55.880879",
     "exception": false,
     "start_time": "2024-06-16T09:04:55.831480",
     "status": "completed"
    },
    "tags": []
   },
   "outputs": [
    {
     "data": {
      "text/html": [
       "<div>\n",
       "<style scoped>\n",
       "    .dataframe tbody tr th:only-of-type {\n",
       "        vertical-align: middle;\n",
       "    }\n",
       "\n",
       "    .dataframe tbody tr th {\n",
       "        vertical-align: top;\n",
       "    }\n",
       "\n",
       "    .dataframe thead th {\n",
       "        text-align: right;\n",
       "    }\n",
       "</style>\n",
       "<table border=\"1\" class=\"dataframe\">\n",
       "  <thead>\n",
       "    <tr style=\"text-align: right;\">\n",
       "      <th></th>\n",
       "      <th>Preg</th>\n",
       "      <th>Glucose</th>\n",
       "      <th>BPressure</th>\n",
       "      <th>Insulin</th>\n",
       "      <th>BMI</th>\n",
       "      <th>DiabetesPedigreeFunction</th>\n",
       "      <th>Age</th>\n",
       "      <th>Outcome</th>\n",
       "    </tr>\n",
       "  </thead>\n",
       "  <tbody>\n",
       "    <tr>\n",
       "      <th>0</th>\n",
       "      <td>6</td>\n",
       "      <td>148</td>\n",
       "      <td>72</td>\n",
       "      <td>0</td>\n",
       "      <td>33.6</td>\n",
       "      <td>0.627</td>\n",
       "      <td>50</td>\n",
       "      <td>1</td>\n",
       "    </tr>\n",
       "    <tr>\n",
       "      <th>1</th>\n",
       "      <td>1</td>\n",
       "      <td>85</td>\n",
       "      <td>66</td>\n",
       "      <td>0</td>\n",
       "      <td>26.6</td>\n",
       "      <td>0.351</td>\n",
       "      <td>31</td>\n",
       "      <td>0</td>\n",
       "    </tr>\n",
       "    <tr>\n",
       "      <th>2</th>\n",
       "      <td>8</td>\n",
       "      <td>183</td>\n",
       "      <td>64</td>\n",
       "      <td>0</td>\n",
       "      <td>23.3</td>\n",
       "      <td>0.672</td>\n",
       "      <td>32</td>\n",
       "      <td>1</td>\n",
       "    </tr>\n",
       "    <tr>\n",
       "      <th>3</th>\n",
       "      <td>1</td>\n",
       "      <td>89</td>\n",
       "      <td>66</td>\n",
       "      <td>94</td>\n",
       "      <td>28.1</td>\n",
       "      <td>0.167</td>\n",
       "      <td>21</td>\n",
       "      <td>0</td>\n",
       "    </tr>\n",
       "    <tr>\n",
       "      <th>4</th>\n",
       "      <td>5</td>\n",
       "      <td>116</td>\n",
       "      <td>74</td>\n",
       "      <td>0</td>\n",
       "      <td>25.6</td>\n",
       "      <td>0.201</td>\n",
       "      <td>30</td>\n",
       "      <td>0</td>\n",
       "    </tr>\n",
       "  </tbody>\n",
       "</table>\n",
       "</div>"
      ],
      "text/plain": [
       "   Preg  Glucose  BPressure  Insulin   BMI  DiabetesPedigreeFunction  Age  \\\n",
       "0     6      148         72        0  33.6                     0.627   50   \n",
       "1     1       85         66        0  26.6                     0.351   31   \n",
       "2     8      183         64        0  23.3                     0.672   32   \n",
       "3     1       89         66       94  28.1                     0.167   21   \n",
       "4     5      116         74        0  25.6                     0.201   30   \n",
       "\n",
       "   Outcome  \n",
       "0        1  \n",
       "1        0  \n",
       "2        1  \n",
       "3        0  \n",
       "4        0  "
      ]
     },
     "execution_count": 20,
     "metadata": {},
     "output_type": "execute_result"
    }
   ],
   "source": [
    "data.head() # Default : first 5 rows"
   ]
  },
  {
   "cell_type": "code",
   "execution_count": 21,
   "id": "a7d12ff1",
   "metadata": {
    "execution": {
     "iopub.execute_input": "2024-06-16T09:04:55.941278Z",
     "iopub.status.busy": "2024-06-16T09:04:55.940832Z",
     "iopub.status.idle": "2024-06-16T09:04:55.957300Z",
     "shell.execute_reply": "2024-06-16T09:04:55.956012Z"
    },
    "papermill": {
     "duration": 0.050249,
     "end_time": "2024-06-16T09:04:55.960185",
     "exception": false,
     "start_time": "2024-06-16T09:04:55.909936",
     "status": "completed"
    },
    "tags": []
   },
   "outputs": [
    {
     "data": {
      "text/html": [
       "<div>\n",
       "<style scoped>\n",
       "    .dataframe tbody tr th:only-of-type {\n",
       "        vertical-align: middle;\n",
       "    }\n",
       "\n",
       "    .dataframe tbody tr th {\n",
       "        vertical-align: top;\n",
       "    }\n",
       "\n",
       "    .dataframe thead th {\n",
       "        text-align: right;\n",
       "    }\n",
       "</style>\n",
       "<table border=\"1\" class=\"dataframe\">\n",
       "  <thead>\n",
       "    <tr style=\"text-align: right;\">\n",
       "      <th></th>\n",
       "      <th>Preg</th>\n",
       "      <th>Glucose</th>\n",
       "      <th>BPressure</th>\n",
       "      <th>Insulin</th>\n",
       "      <th>BMI</th>\n",
       "      <th>DiabetesPedigreeFunction</th>\n",
       "      <th>Age</th>\n",
       "      <th>Outcome</th>\n",
       "    </tr>\n",
       "  </thead>\n",
       "  <tbody>\n",
       "    <tr>\n",
       "      <th>1590</th>\n",
       "      <td>6</td>\n",
       "      <td>107</td>\n",
       "      <td>88</td>\n",
       "      <td>0</td>\n",
       "      <td>36.8</td>\n",
       "      <td>0.727</td>\n",
       "      <td>31</td>\n",
       "      <td>0</td>\n",
       "    </tr>\n",
       "    <tr>\n",
       "      <th>1591</th>\n",
       "      <td>6</td>\n",
       "      <td>87</td>\n",
       "      <td>80</td>\n",
       "      <td>0</td>\n",
       "      <td>23.2</td>\n",
       "      <td>0.084</td>\n",
       "      <td>32</td>\n",
       "      <td>0</td>\n",
       "    </tr>\n",
       "    <tr>\n",
       "      <th>1592</th>\n",
       "      <td>3</td>\n",
       "      <td>129</td>\n",
       "      <td>64</td>\n",
       "      <td>115</td>\n",
       "      <td>26.4</td>\n",
       "      <td>0.219</td>\n",
       "      <td>28</td>\n",
       "      <td>1</td>\n",
       "    </tr>\n",
       "    <tr>\n",
       "      <th>1593</th>\n",
       "      <td>1</td>\n",
       "      <td>100</td>\n",
       "      <td>66</td>\n",
       "      <td>196</td>\n",
       "      <td>32.0</td>\n",
       "      <td>0.444</td>\n",
       "      <td>42</td>\n",
       "      <td>0</td>\n",
       "    </tr>\n",
       "    <tr>\n",
       "      <th>1594</th>\n",
       "      <td>2</td>\n",
       "      <td>94</td>\n",
       "      <td>68</td>\n",
       "      <td>76</td>\n",
       "      <td>26.0</td>\n",
       "      <td>0.561</td>\n",
       "      <td>21</td>\n",
       "      <td>0</td>\n",
       "    </tr>\n",
       "  </tbody>\n",
       "</table>\n",
       "</div>"
      ],
      "text/plain": [
       "      Preg  Glucose  BPressure  Insulin   BMI  DiabetesPedigreeFunction  Age  \\\n",
       "1590     6      107         88        0  36.8                     0.727   31   \n",
       "1591     6       87         80        0  23.2                     0.084   32   \n",
       "1592     3      129         64      115  26.4                     0.219   28   \n",
       "1593     1      100         66      196  32.0                     0.444   42   \n",
       "1594     2       94         68       76  26.0                     0.561   21   \n",
       "\n",
       "      Outcome  \n",
       "1590        0  \n",
       "1591        0  \n",
       "1592        1  \n",
       "1593        0  \n",
       "1594        0  "
      ]
     },
     "execution_count": 21,
     "metadata": {},
     "output_type": "execute_result"
    }
   ],
   "source": [
    "data.tail() # Default : last 5 rows"
   ]
  },
  {
   "cell_type": "code",
   "execution_count": 22,
   "id": "7e178a6a",
   "metadata": {
    "execution": {
     "iopub.execute_input": "2024-06-16T09:04:56.022341Z",
     "iopub.status.busy": "2024-06-16T09:04:56.021229Z",
     "iopub.status.idle": "2024-06-16T09:04:56.063785Z",
     "shell.execute_reply": "2024-06-16T09:04:56.062306Z"
    },
    "papermill": {
     "duration": 0.077436,
     "end_time": "2024-06-16T09:04:56.066529",
     "exception": false,
     "start_time": "2024-06-16T09:04:55.989093",
     "status": "completed"
    },
    "tags": []
   },
   "outputs": [
    {
     "data": {
      "text/html": [
       "<div>\n",
       "<style scoped>\n",
       "    .dataframe tbody tr th:only-of-type {\n",
       "        vertical-align: middle;\n",
       "    }\n",
       "\n",
       "    .dataframe tbody tr th {\n",
       "        vertical-align: top;\n",
       "    }\n",
       "\n",
       "    .dataframe thead th {\n",
       "        text-align: right;\n",
       "    }\n",
       "</style>\n",
       "<table border=\"1\" class=\"dataframe\">\n",
       "  <thead>\n",
       "    <tr style=\"text-align: right;\">\n",
       "      <th></th>\n",
       "      <th>count</th>\n",
       "      <th>mean</th>\n",
       "      <th>std</th>\n",
       "      <th>min</th>\n",
       "      <th>25%</th>\n",
       "      <th>50%</th>\n",
       "      <th>75%</th>\n",
       "      <th>max</th>\n",
       "    </tr>\n",
       "  </thead>\n",
       "  <tbody>\n",
       "    <tr>\n",
       "      <th>Preg</th>\n",
       "      <td>1595.0</td>\n",
       "      <td>3.770533</td>\n",
       "      <td>3.081292</td>\n",
       "      <td>0.000</td>\n",
       "      <td>1.000</td>\n",
       "      <td>3.000</td>\n",
       "      <td>6.000</td>\n",
       "      <td>13.000</td>\n",
       "    </tr>\n",
       "    <tr>\n",
       "      <th>Glucose</th>\n",
       "      <td>1595.0</td>\n",
       "      <td>118.452038</td>\n",
       "      <td>29.177593</td>\n",
       "      <td>44.000</td>\n",
       "      <td>99.000</td>\n",
       "      <td>112.000</td>\n",
       "      <td>138.000</td>\n",
       "      <td>197.000</td>\n",
       "    </tr>\n",
       "    <tr>\n",
       "      <th>BPressure</th>\n",
       "      <td>1595.0</td>\n",
       "      <td>71.889028</td>\n",
       "      <td>11.000837</td>\n",
       "      <td>44.000</td>\n",
       "      <td>64.000</td>\n",
       "      <td>72.000</td>\n",
       "      <td>80.000</td>\n",
       "      <td>104.000</td>\n",
       "    </tr>\n",
       "    <tr>\n",
       "      <th>Insulin</th>\n",
       "      <td>1595.0</td>\n",
       "      <td>63.586834</td>\n",
       "      <td>78.347922</td>\n",
       "      <td>0.000</td>\n",
       "      <td>0.000</td>\n",
       "      <td>37.000</td>\n",
       "      <td>110.000</td>\n",
       "      <td>300.000</td>\n",
       "    </tr>\n",
       "    <tr>\n",
       "      <th>BMI</th>\n",
       "      <td>1595.0</td>\n",
       "      <td>31.864326</td>\n",
       "      <td>6.573203</td>\n",
       "      <td>18.200</td>\n",
       "      <td>26.800</td>\n",
       "      <td>32.000</td>\n",
       "      <td>35.800</td>\n",
       "      <td>50.000</td>\n",
       "    </tr>\n",
       "    <tr>\n",
       "      <th>DiabetesPedigreeFunction</th>\n",
       "      <td>1595.0</td>\n",
       "      <td>0.438347</td>\n",
       "      <td>0.250749</td>\n",
       "      <td>0.078</td>\n",
       "      <td>0.252</td>\n",
       "      <td>0.368</td>\n",
       "      <td>0.597</td>\n",
       "      <td>1.224</td>\n",
       "    </tr>\n",
       "    <tr>\n",
       "      <th>Age</th>\n",
       "      <td>1595.0</td>\n",
       "      <td>31.518495</td>\n",
       "      <td>9.617014</td>\n",
       "      <td>21.000</td>\n",
       "      <td>24.000</td>\n",
       "      <td>29.000</td>\n",
       "      <td>37.000</td>\n",
       "      <td>61.000</td>\n",
       "    </tr>\n",
       "    <tr>\n",
       "      <th>Outcome</th>\n",
       "      <td>1595.0</td>\n",
       "      <td>0.358621</td>\n",
       "      <td>0.479746</td>\n",
       "      <td>0.000</td>\n",
       "      <td>0.000</td>\n",
       "      <td>0.000</td>\n",
       "      <td>1.000</td>\n",
       "      <td>1.000</td>\n",
       "    </tr>\n",
       "  </tbody>\n",
       "</table>\n",
       "</div>"
      ],
      "text/plain": [
       "                           count        mean        std     min     25%  \\\n",
       "Preg                      1595.0    3.770533   3.081292   0.000   1.000   \n",
       "Glucose                   1595.0  118.452038  29.177593  44.000  99.000   \n",
       "BPressure                 1595.0   71.889028  11.000837  44.000  64.000   \n",
       "Insulin                   1595.0   63.586834  78.347922   0.000   0.000   \n",
       "BMI                       1595.0   31.864326   6.573203  18.200  26.800   \n",
       "DiabetesPedigreeFunction  1595.0    0.438347   0.250749   0.078   0.252   \n",
       "Age                       1595.0   31.518495   9.617014  21.000  24.000   \n",
       "Outcome                   1595.0    0.358621   0.479746   0.000   0.000   \n",
       "\n",
       "                              50%      75%      max  \n",
       "Preg                        3.000    6.000   13.000  \n",
       "Glucose                   112.000  138.000  197.000  \n",
       "BPressure                  72.000   80.000  104.000  \n",
       "Insulin                    37.000  110.000  300.000  \n",
       "BMI                        32.000   35.800   50.000  \n",
       "DiabetesPedigreeFunction    0.368    0.597    1.224  \n",
       "Age                        29.000   37.000   61.000  \n",
       "Outcome                     0.000    1.000    1.000  "
      ]
     },
     "execution_count": 22,
     "metadata": {},
     "output_type": "execute_result"
    }
   ],
   "source": [
    "data.describe().T"
   ]
  },
  {
   "cell_type": "code",
   "execution_count": 23,
   "id": "54014f0f",
   "metadata": {
    "execution": {
     "iopub.execute_input": "2024-06-16T09:04:56.127429Z",
     "iopub.status.busy": "2024-06-16T09:04:56.126951Z",
     "iopub.status.idle": "2024-06-16T09:04:56.135311Z",
     "shell.execute_reply": "2024-06-16T09:04:56.133746Z"
    },
    "papermill": {
     "duration": 0.042112,
     "end_time": "2024-06-16T09:04:56.137970",
     "exception": false,
     "start_time": "2024-06-16T09:04:56.095858",
     "status": "completed"
    },
    "tags": []
   },
   "outputs": [
    {
     "data": {
      "text/plain": [
       "(1595, 8)"
      ]
     },
     "execution_count": 23,
     "metadata": {},
     "output_type": "execute_result"
    }
   ],
   "source": [
    "data.shape # Dimensions (rows, columns)"
   ]
  },
  {
   "cell_type": "markdown",
   "id": "609e5dcb",
   "metadata": {},
   "source": [
    "# <font color='DarkSlateGrey'>Class Imbalance Handling</font>\n"
   ]
  },
  {
   "cell_type": "code",
   "execution_count": 24,
   "id": "a184bf24",
   "metadata": {},
   "outputs": [
    {
     "data": {
      "text/plain": [
       "Outcome\n",
       "0    1023\n",
       "1     572\n",
       "Name: count, dtype: int64"
      ]
     },
     "execution_count": 24,
     "metadata": {},
     "output_type": "execute_result"
    }
   ],
   "source": [
    "data['Outcome'].value_counts()"
   ]
  },
  {
   "cell_type": "code",
   "execution_count": 25,
   "id": "0ae83a19",
   "metadata": {},
   "outputs": [
    {
     "data": {
      "image/png": "[encoded data removed]",
      "text/plain": [
       "<Figure size 640x480 with 1 Axes>"
      ]
     },
     "metadata": {},
     "output_type": "display_data"
    }
   ],
   "source": [
    "sns.barplot(x=data['Outcome'].value_counts().index, y=data['Outcome'].value_counts().values)\n",
    "plt.xlabel(\"Class (0 = No Diabetes, 1 = Diabetes)\")\n",
    "plt.ylabel(\"Count\")\n",
    "plt.title(\"Class Distribution Before SMOTE\")\n",
    "plt.show()"
   ]
  },
  {
   "cell_type": "code",
   "execution_count": 26,
   "id": "52788a62",
   "metadata": {},
   "outputs": [],
   "source": [
    "from imblearn.over_sampling import SMOTE\n",
    "from collections import Counter"
   ]
  },
  {
   "cell_type": "code",
   "execution_count": 27,
   "id": "c2f26857",
   "metadata": {},
   "outputs": [],
   "source": [
    "X = data.drop(columns=['Outcome'])  # Features\n",
    "y = data['Outcome']  # Target variable\n"
   ]
  },
  {
   "cell_type": "code",
   "execution_count": 28,
   "id": "fc8fe724",
   "metadata": {},
   "outputs": [
    {
     "name": "stdout",
     "output_type": "stream",
     "text": [
      "Class distribution after SMOTE: Counter({1: 1023, 0: 1023})\n"
     ]
    }
   ],
   "source": [
    "\n",
    "# Apply SMOTE\n",
    "smote = SMOTE(random_state=42)\n",
    "X_resampled, y_resampled = smote.fit_resample(X, y)\n",
    "# Check class distribution after SMOTE\n",
    "print(\"Class distribution after SMOTE:\", Counter(y_resampled))\n"
   ]
  },
  {
   "cell_type": "code",
   "execution_count": 29,
   "id": "c9dbe93a",
   "metadata": {},
   "outputs": [],
   "source": [
    "\n",
    "# Convert back to DataFrame (optional)\n",
    "data = pd.DataFrame(X_resampled, columns=X.columns)\n",
    "data['Outcome'] = y_resampled"
   ]
  },
  {
   "cell_type": "code",
   "execution_count": 30,
   "id": "86d377ee",
   "metadata": {},
   "outputs": [
    {
     "data": {
      "image/png": "[encoded data removed]",
      "text/plain": [
       "<Figure size 640x480 with 1 Axes>"
      ]
     },
     "metadata": {},
     "output_type": "display_data"
    }
   ],
   "source": [
    "sns.barplot(x=data['Outcome'].value_counts().index, y=data['Outcome'].value_counts().values)\n",
    "plt.xlabel(\"Class (0 = No Diabetes, 1 = Diabetes)\")\n",
    "plt.ylabel(\"Count\")\n",
    "plt.title(\"Class Distribution After SMOTE\")\n",
    "plt.show()"
   ]
  },
  {
   "cell_type": "markdown",
   "id": "5f0c4ae7",
   "metadata": {},
   "source": [
    "# <font color='DarkSlateGrey'>Checking corelation after SMOTE</font>"
   ]
  },
  {
   "cell_type": "code",
   "execution_count": 31,
   "id": "004c3db5",
   "metadata": {},
   "outputs": [
    {
     "data": {
      "text/html": [
       "<style type=\"text/css\">\n",
       "#T_0e0a0_row0_col0 {\n",
       "  background-color: #313695;\n",
       "  color: #f1f1f1;\n",
       "}\n",
       "#T_0e0a0_row1_col0 {\n",
       "  background-color: #fee597;\n",
       "  color: #000000;\n",
       "}\n",
       "#T_0e0a0_row2_col0 {\n",
       "  background-color: #f46d43;\n",
       "  color: #f1f1f1;\n",
       "}\n",
       "#T_0e0a0_row3_col0 {\n",
       "  background-color: #ed5f3c;\n",
       "  color: #f1f1f1;\n",
       "}\n",
       "#T_0e0a0_row4_col0 {\n",
       "  background-color: #e24731;\n",
       "  color: #f1f1f1;\n",
       "}\n",
       "#T_0e0a0_row5_col0 {\n",
       "  background-color: #d62f27;\n",
       "  color: #f1f1f1;\n",
       "}\n",
       "#T_0e0a0_row6_col0 {\n",
       "  background-color: #d02927;\n",
       "  color: #f1f1f1;\n",
       "}\n",
       "#T_0e0a0_row7_col0 {\n",
       "  background-color: #a50026;\n",
       "  color: #f1f1f1;\n",
       "}\n",
       "</style>\n",
       "<table id=\"T_0e0a0\">\n",
       "  <thead>\n",
       "    <tr>\n",
       "      <th class=\"blank level0\" >&nbsp;</th>\n",
       "      <th id=\"T_0e0a0_level0_col0\" class=\"col_heading level0 col0\" >Outcome</th>\n",
       "    </tr>\n",
       "  </thead>\n",
       "  <tbody>\n",
       "    <tr>\n",
       "      <th id=\"T_0e0a0_level0_row0\" class=\"row_heading level0 row0\" >Outcome</th>\n",
       "      <td id=\"T_0e0a0_row0_col0\" class=\"data row0 col0\" >1.000000</td>\n",
       "    </tr>\n",
       "    <tr>\n",
       "      <th id=\"T_0e0a0_level0_row1\" class=\"row_heading level0 row1\" >Glucose</th>\n",
       "      <td id=\"T_0e0a0_row1_col0\" class=\"data row1 col0\" >0.486009</td>\n",
       "    </tr>\n",
       "    <tr>\n",
       "      <th id=\"T_0e0a0_level0_row2\" class=\"row_heading level0 row2\" >BMI</th>\n",
       "      <td id=\"T_0e0a0_row2_col0\" class=\"data row2 col0\" >0.297248</td>\n",
       "    </tr>\n",
       "    <tr>\n",
       "      <th id=\"T_0e0a0_level0_row3\" class=\"row_heading level0 row3\" >Age</th>\n",
       "      <td id=\"T_0e0a0_row3_col0\" class=\"data row3 col0\" >0.275289</td>\n",
       "    </tr>\n",
       "    <tr>\n",
       "      <th id=\"T_0e0a0_level0_row4\" class=\"row_heading level0 row4\" >Preg</th>\n",
       "      <td id=\"T_0e0a0_row4_col0\" class=\"data row4 col0\" >0.241461</td>\n",
       "    </tr>\n",
       "    <tr>\n",
       "      <th id=\"T_0e0a0_level0_row5\" class=\"row_heading level0 row5\" >DiabetesPedigreeFunction</th>\n",
       "      <td id=\"T_0e0a0_row5_col0\" class=\"data row5 col0\" >0.206701</td>\n",
       "    </tr>\n",
       "    <tr>\n",
       "      <th id=\"T_0e0a0_level0_row6\" class=\"row_heading level0 row6\" >BPressure</th>\n",
       "      <td id=\"T_0e0a0_row6_col0\" class=\"data row6 col0\" >0.196766</td>\n",
       "    </tr>\n",
       "    <tr>\n",
       "      <th id=\"T_0e0a0_level0_row7\" class=\"row_heading level0 row7\" >Insulin</th>\n",
       "      <td id=\"T_0e0a0_row7_col0\" class=\"data row7 col0\" >0.120558</td>\n",
       "    </tr>\n",
       "  </tbody>\n",
       "</table>\n"
      ],
      "text/plain": [
       "<pandas.io.formats.style.Styler at 0x1ff43b99090>"
      ]
     },
     "execution_count": 31,
     "metadata": {},
     "output_type": "execute_result"
    }
   ],
   "source": [
    "corr = data[['Preg', 'Glucose', 'BPressure','Insulin','BMI','DiabetesPedigreeFunction', 'Age','Outcome']].corr()['Outcome'].sort_values(ascending = False)\n",
    "corr = corr.to_frame()\n",
    "corr.style.background_gradient(cmap=\"RdYlBu\")"
   ]
  },
  {
   "cell_type": "code",
   "execution_count": 32,
   "id": "a05afed8",
   "metadata": {},
   "outputs": [
    {
     "data": {
      "text/plain": [
       "Outcome\n",
       "1    1023\n",
       "0    1023\n",
       "Name: count, dtype: int64"
      ]
     },
     "execution_count": 32,
     "metadata": {},
     "output_type": "execute_result"
    }
   ],
   "source": [
    "data['Outcome'].value_counts()"
   ]
  },
  {
   "cell_type": "markdown",
   "id": "358d4a57",
   "metadata": {
    "papermill": {
     "duration": 0.029843,
     "end_time": "2024-06-16T09:04:56.196737",
     "exception": false,
     "start_time": "2024-06-16T09:04:56.166894",
     "status": "completed"
    },
    "tags": []
   },
   "source": [
    "# <font color='DarkSlateGrey'>⚑ Modeling</font>"
   ]
  },
  {
   "cell_type": "markdown",
   "id": "8290af8f",
   "metadata": {
    "papermill": {
     "duration": 0.028715,
     "end_time": "2024-06-16T09:04:56.313617",
     "exception": false,
     "start_time": "2024-06-16T09:04:56.284902",
     "status": "completed"
    },
    "tags": []
   },
   "source": [
    "# <font color='DarkSlateGrey'>⚑ Splitting the data and target</font>"
   ]
  },
  {
   "cell_type": "code",
   "execution_count": 33,
   "id": "09feb546",
   "metadata": {
    "execution": {
     "iopub.execute_input": "2024-06-16T09:04:56.374553Z",
     "iopub.status.busy": "2024-06-16T09:04:56.374109Z",
     "iopub.status.idle": "2024-06-16T09:04:56.383036Z",
     "shell.execute_reply": "2024-06-16T09:04:56.381499Z"
    },
    "papermill": {
     "duration": 0.043182,
     "end_time": "2024-06-16T09:04:56.385718",
     "exception": false,
     "start_time": "2024-06-16T09:04:56.342536",
     "status": "completed"
    },
    "tags": []
   },
   "outputs": [
    {
     "name": "stdout",
     "output_type": "stream",
     "text": [
      "X shape is :  (2046, 7)\n",
      "\n",
      "y shape is :  (2046,)\n"
     ]
    }
   ],
   "source": [
    "# X Data\n",
    "X = data.drop(['Outcome'], axis=1)\n",
    "print('X shape is : ' , X.shape)\n",
    "print()\n",
    "\n",
    "# y Data\n",
    "y = data['Outcome']\n",
    "print('y shape is : ' , y.shape)"
   ]
  },
  {
   "cell_type": "markdown",
   "id": "a938d7eb",
   "metadata": {
    "papermill": {
     "duration": 0.029709,
     "end_time": "2024-06-16T09:04:56.447025",
     "exception": false,
     "start_time": "2024-06-16T09:04:56.417316",
     "status": "completed"
    },
    "tags": []
   },
   "source": [
    "# <font color='DarkSlateGrey'>⚑ Train Test Split</font>"
   ]
  },
  {
   "cell_type": "code",
   "execution_count": 34,
   "id": "3a617392",
   "metadata": {
    "execution": {
     "iopub.execute_input": "2024-06-16T09:04:56.508496Z",
     "iopub.status.busy": "2024-06-16T09:04:56.507957Z",
     "iopub.status.idle": "2024-06-16T09:04:56.521677Z",
     "shell.execute_reply": "2024-06-16T09:04:56.520121Z"
    },
    "papermill": {
     "duration": 0.048134,
     "end_time": "2024-06-16T09:04:56.524335",
     "exception": false,
     "start_time": "2024-06-16T09:04:56.476201",
     "status": "completed"
    },
    "tags": []
   },
   "outputs": [
    {
     "name": "stdout",
     "output_type": "stream",
     "text": [
      "X_train shape is  (1636, 7)\n",
      "X_test shape is  (410, 7)\n",
      "y_train shape is  (1636,)\n",
      "y_test shape is  (410,)\n"
     ]
    }
   ],
   "source": [
    "X_train, X_test, y_train, y_test = train_test_split(X, y, test_size=0.2, random_state=42, shuffle=True)\n",
    "\n",
    "# Splitted Data\n",
    "print('X_train shape is ' , X_train.shape)\n",
    "print('X_test shape is ' , X_test.shape)\n",
    "print('y_train shape is ' , y_train.shape)\n",
    "print('y_test shape is ' , y_test.shape)"
   ]
  },
  {
   "cell_type": "code",
   "execution_count": 62,
   "id": "7481b42b",
   "metadata": {},
   "outputs": [
    {
     "name": "stdout",
     "output_type": "stream",
     "text": [
      "      Preg  Glucose  BPressure  Insulin        BMI  DiabetesPedigreeFunction  \\\n",
      "507      5      117         92        0  34.100000                  0.337000   \n",
      "986      5      139         80      160  31.600000                  0.361000   \n",
      "1386     3      170         64      225  34.500000                  0.356000   \n",
      "1872     0      108         87        0  32.281128                  0.768095   \n",
      "1564     3       78         50       88  31.000000                  0.248000   \n",
      "...    ...      ...        ...      ...        ...                       ...   \n",
      "1130     1      125         50      167  33.300000                  0.962000   \n",
      "1294     2      108         62       56  25.200000                  0.128000   \n",
      "860      0      104         76        0  18.400000                  0.582000   \n",
      "1459     0      138         60      167  34.600000                  0.534000   \n",
      "1126     1      103         80       82  19.400000                  0.491000   \n",
      "\n",
      "      Age  \n",
      "507    38  \n",
      "986    25  \n",
      "1386   30  \n",
      "1872   37  \n",
      "1564   26  \n",
      "...   ...  \n",
      "1130   28  \n",
      "1294   21  \n",
      "860    27  \n",
      "1459   21  \n",
      "1126   22  \n",
      "\n",
      "[1636 rows x 7 columns]\n"
     ]
    }
   ],
   "source": [
    "print(X_train)"
   ]
  },
  {
   "attachments": {
    "e1f2180a-6647-4fc9-a9e0-a6dc85d95bb2.png": {
     "image/png": "[encoded data removed]"
    }
   },
   "cell_type": "markdown",
   "id": "9345737d",
   "metadata": {
    "papermill": {
     "duration": 0.029229,
     "end_time": "2024-06-16T09:04:56.583647",
     "exception": false,
     "start_time": "2024-06-16T09:04:56.554418",
     "status": "completed"
    },
    "tags": []
   },
   "source": [
    "![Train_Test_Split.png](attachment:e1f2180a-6647-4fc9-a9e0-a6dc85d95bb2.png)"
   ]
  },
  {
   "cell_type": "markdown",
   "id": "0cb4631c",
   "metadata": {
    "papermill": {
     "duration": 0.029095,
     "end_time": "2024-06-16T09:04:56.642155",
     "exception": false,
     "start_time": "2024-06-16T09:04:56.613060",
     "status": "completed"
    },
    "tags": []
   },
   "source": [
    "# <font color='DarkSlateGrey'>⚑ Data Scaling / Feature Scaling</font>"
   ]
  },
  {
   "cell_type": "code",
   "execution_count": 35,
   "id": "83587bc3",
   "metadata": {
    "execution": {
     "iopub.execute_input": "2024-06-16T09:04:56.762984Z",
     "iopub.status.busy": "2024-06-16T09:04:56.761563Z",
     "iopub.status.idle": "2024-06-16T09:04:56.775460Z",
     "shell.execute_reply": "2024-06-16T09:04:56.774118Z"
    },
    "papermill": {
     "duration": 0.047895,
     "end_time": "2024-06-16T09:04:56.778192",
     "exception": false,
     "start_time": "2024-06-16T09:04:56.730297",
     "status": "completed"
    },
    "tags": []
   },
   "outputs": [],
   "source": [
    "# Standardization (Z-Score Normalization) \n",
    "# StandardScaler for Data \n",
    "# scaled data is not needed for Random forest \n",
    "\n",
    "scaler = StandardScaler()\n",
    "X_train_scaled = scaler.fit_transform(X_train)\n",
    "X_test_scaled = scaler.transform(X_test)\n",
    "\n",
    "with open(\"scaler.pkl\", \"wb\") as scaler_file:\n",
    "    pickle.dump(scaler, scaler_file)"
   ]
  },
  {
   "cell_type": "markdown",
   "id": "9b6e6e27",
   "metadata": {
    "papermill": {
     "duration": 0.029154,
     "end_time": "2024-06-16T09:04:56.836437",
     "exception": false,
     "start_time": "2024-06-16T09:04:56.807283",
     "status": "completed"
    },
    "tags": []
   },
   "source": [
    "# <font color='DarkSlateGrey'>⚑ Applying \"Support Vector Machine\" Algorithm</font>"
   ]
  },
  {
   "cell_type": "code",
   "execution_count": 36,
   "id": "ebbd001a",
   "metadata": {
    "execution": {
     "iopub.execute_input": "2024-06-16T09:04:56.900427Z",
     "iopub.status.busy": "2024-06-16T09:04:56.899109Z",
     "iopub.status.idle": "2024-06-16T09:04:57.026688Z",
     "shell.execute_reply": "2024-06-16T09:04:57.025005Z"
    },
    "papermill": {
     "duration": 0.162335,
     "end_time": "2024-06-16T09:04:57.029612",
     "exception": false,
     "start_time": "2024-06-16T09:04:56.867277",
     "status": "completed"
    },
    "tags": []
   },
   "outputs": [
    {
     "name": "stdout",
     "output_type": "stream",
     "text": [
      "Training accuracy: 88.45 %\n",
      "Testing accuracy: 87.80 %\n"
     ]
    }
   ],
   "source": [
    "Model_SVC = SVC()\n",
    "Model_SVC.fit(X_train_scaled, y_train)\n",
    "y_pred_SVC = Model_SVC.predict(X_test_scaled)\n",
    "\n",
    "# Quick evaluation\n",
    "Train_Accuracy = Model_SVC.score(X_train_scaled, y_train)\n",
    "Test_Accuracy = Model_SVC.score(X_test_scaled, y_test)\n",
    "print(f'Training accuracy: {Train_Accuracy*100:.2f} %')\n",
    "print(f'Testing accuracy: {Test_Accuracy*100:.2f} %')\n",
    "\n",
    "# Gap = 0.16"
   ]
  },
  {
   "cell_type": "markdown",
   "id": "1e7eb7bc",
   "metadata": {
    "papermill": {
     "duration": 0.028856,
     "end_time": "2024-06-16T09:04:57.087560",
     "exception": false,
     "start_time": "2024-06-16T09:04:57.058704",
     "status": "completed"
    },
    "tags": []
   },
   "source": [
    "# <font color='DarkSlateGrey'>⚑ Model Evaluation</font>"
   ]
  },
  {
   "cell_type": "code",
   "execution_count": 37,
   "id": "ebd12c90",
   "metadata": {
    "execution": {
     "iopub.execute_input": "2024-06-16T09:04:57.148129Z",
     "iopub.status.busy": "2024-06-16T09:04:57.147726Z",
     "iopub.status.idle": "2024-06-16T09:04:57.397699Z",
     "shell.execute_reply": "2024-06-16T09:04:57.396237Z"
    },
    "papermill": {
     "duration": 0.284045,
     "end_time": "2024-06-16T09:04:57.400795",
     "exception": false,
     "start_time": "2024-06-16T09:04:57.116750",
     "status": "completed"
    },
    "tags": []
   },
   "outputs": [
    {
     "data": {
      "image/png": "[encoded data removed]",
      "text/plain": [
       "<Figure size 640x480 with 2 Axes>"
      ]
     },
     "metadata": {},
     "output_type": "display_data"
    }
   ],
   "source": [
    "# Confusion Matrix\n",
    "\n",
    "CM = confusion_matrix(y_true=y_test, y_pred=y_pred_SVC)\n",
    "ConfusionMatrixDisplay(CM, display_labels=data['Outcome'].unique()).plot()\n",
    "plt.title('Confusion Matrix Without Normalization')\n",
    "plt.show()"
   ]
  },
  {
   "cell_type": "code",
   "execution_count": 38,
   "id": "e24a613a",
   "metadata": {
    "execution": {
     "iopub.execute_input": "2024-06-16T09:04:57.466975Z",
     "iopub.status.busy": "2024-06-16T09:04:57.466481Z",
     "iopub.status.idle": "2024-06-16T09:04:57.485250Z",
     "shell.execute_reply": "2024-06-16T09:04:57.483440Z"
    },
    "papermill": {
     "duration": 0.054947,
     "end_time": "2024-06-16T09:04:57.488299",
     "exception": false,
     "start_time": "2024-06-16T09:04:57.433352",
     "status": "completed"
    },
    "tags": []
   },
   "outputs": [
    {
     "name": "stdout",
     "output_type": "stream",
     "text": [
      "              precision    recall  f1-score   support\n",
      "\n",
      "           0       0.88      0.88      0.88       213\n",
      "           1       0.87      0.87      0.87       197\n",
      "\n",
      "    accuracy                           0.88       410\n",
      "   macro avg       0.88      0.88      0.88       410\n",
      "weighted avg       0.88      0.88      0.88       410\n",
      "\n"
     ]
    }
   ],
   "source": [
    "print(classification_report(y_test, y_pred_SVC))"
   ]
  },
  {
   "cell_type": "code",
   "execution_count": 39,
   "id": "081ea690",
   "metadata": {
    "execution": {
     "iopub.execute_input": "2024-06-16T09:04:57.558326Z",
     "iopub.status.busy": "2024-06-16T09:04:57.557847Z",
     "iopub.status.idle": "2024-06-16T09:04:57.579475Z",
     "shell.execute_reply": "2024-06-16T09:04:57.577910Z"
    },
    "papermill": {
     "duration": 0.061558,
     "end_time": "2024-06-16T09:04:57.582286",
     "exception": false,
     "start_time": "2024-06-16T09:04:57.520728",
     "status": "completed"
    },
    "tags": []
   },
   "outputs": [
    {
     "name": "stdout",
     "output_type": "stream",
     "text": [
      "➤➤➤ Accuracy Score :  87.80 %\n",
      "\n",
      "➤➤➤ Precision Score :  87.31 %\n",
      "\n",
      "➤➤➤ Recall Score :  87.31 %\n",
      "\n",
      "➤➤➤ F1 Score :  87.31 %\n",
      "\n"
     ]
    }
   ],
   "source": [
    "# Accuracy = (TP + TN) / (TP + TN + FP + FN)\n",
    "Accuracy_SVC = accuracy_score(y_test, y_pred_SVC)\n",
    "print(f'➤➤➤ Accuracy Score : {Accuracy_SVC * 100 : .2f} %\\n')\n",
    "\n",
    "\n",
    "# Precision = TP / (TP + FP)\n",
    "Precision_SVC = precision_score(y_test, y_pred_SVC)\n",
    "print(f'➤➤➤ Precision Score : {Precision_SVC * 100 : .2f} %\\n')\n",
    "\n",
    "\n",
    "# Recall/Sensitivity = TP / (TP + FN)\n",
    "Recall_SVC = recall_score(y_test, y_pred_SVC)\n",
    "print(f'➤➤➤ Recall Score : {Recall_SVC * 100 : .2f} %\\n')\n",
    "\n",
    "\n",
    "# F1 Score = 2 × ((Precision * Recall) / (Precision + Recall))\n",
    "F1_Score_SVC = f1_score(y_test, y_pred_SVC)\n",
    "print(f'➤➤➤ F1 Score : {F1_Score_SVC * 100 : .2f} %\\n')"
   ]
  },
  {
   "cell_type": "code",
   "execution_count": 40,
   "id": "b08eefc2",
   "metadata": {
    "execution": {
     "iopub.execute_input": "2024-06-16T09:04:57.648623Z",
     "iopub.status.busy": "2024-06-16T09:04:57.648113Z",
     "iopub.status.idle": "2024-06-16T09:04:57.953298Z",
     "shell.execute_reply": "2024-06-16T09:04:57.951886Z"
    },
    "papermill": {
     "duration": 0.34257,
     "end_time": "2024-06-16T09:04:57.956327",
     "exception": false,
     "start_time": "2024-06-16T09:04:57.613757",
     "status": "completed"
    },
    "tags": []
   },
   "outputs": [
    {
     "data": {
      "image/png": "[encoded data removed]",
      "text/plain": [
       "<Figure size 1000x600 with 1 Axes>"
      ]
     },
     "metadata": {},
     "output_type": "display_data"
    }
   ],
   "source": [
    "# Define the evaluation metrics and their scores\n",
    "metrics = ['Accuracy', 'Precision', 'Recall', 'F1 Score']\n",
    "scores = [Accuracy_SVC, Precision_SVC, Recall_SVC, F1_Score_SVC]\n",
    "\n",
    "# Plotting the bar chart\n",
    "plt.figure(figsize=(10, 6))\n",
    "plt.bar(metrics, scores, color=['blue', 'green', 'red', 'orange'])\n",
    "plt.title('Performance Metrics of Support Vector Machine Model')\n",
    "plt.xlabel('Metrics')\n",
    "plt.ylabel('Score')\n",
    "plt.ylim(0.1, 1)\n",
    "plt.yticks([0.1, 0.2, 0.3, 0.4, 0.5, 0.6, 0.7, 0.8, 0.9, 1.0])\n",
    "plt.grid(axis='y', alpha=1)\n",
    "plt.show()"
   ]
  },
  {
   "cell_type": "code",
   "execution_count": null,
   "id": "90b6185d",
   "metadata": {},
   "outputs": [],
   "source": []
  },
  {
   "cell_type": "markdown",
   "id": "af0d9a47",
   "metadata": {},
   "source": [
    "# <font color='DarkSlateGrey'>⚑ Applying \"Logistic Regression\" Algorithm</font>"
   ]
  },
  {
   "cell_type": "code",
   "execution_count": 41,
   "id": "e51893e6",
   "metadata": {},
   "outputs": [
    {
     "data": {
      "text/html": [
       "<style>#sk-container-id-1 {\n",
       "  /* Definition of color scheme common for light and dark mode */\n",
       "  --sklearn-color-text: #000;\n",
       "  --sklearn-color-text-muted: #666;\n",
       "  --sklearn-color-line: gray;\n",
       "  /* Definition of color scheme for unfitted estimators */\n",
       "  --sklearn-color-unfitted-level-0: #fff5e6;\n",
       "  --sklearn-color-unfitted-level-1: #f6e4d2;\n",
       "  --sklearn-color-unfitted-level-2: #ffe0b3;\n",
       "  --sklearn-color-unfitted-level-3: chocolate;\n",
       "  /* Definition of color scheme for fitted estimators */\n",
       "  --sklearn-color-fitted-level-0: #f0f8ff;\n",
       "  --sklearn-color-fitted-level-1: #d4ebff;\n",
       "  --sklearn-color-fitted-level-2: #b3dbfd;\n",
       "  --sklearn-color-fitted-level-3: cornflowerblue;\n",
       "\n",
       "  /* Specific color for light theme */\n",
       "  --sklearn-color-text-on-default-background: var(--sg-text-color, var(--theme-code-foreground, var(--jp-content-font-color1, black)));\n",
       "  --sklearn-color-background: var(--sg-background-color, var(--theme-background, var(--jp-layout-color0, white)));\n",
       "  --sklearn-color-border-box: var(--sg-text-color, var(--theme-code-foreground, var(--jp-content-font-color1, black)));\n",
       "  --sklearn-color-icon: #696969;\n",
       "\n",
       "  @media (prefers-color-scheme: dark) {\n",
       "    /* Redefinition of color scheme for dark theme */\n",
       "    --sklearn-color-text-on-default-background: var(--sg-text-color, var(--theme-code-foreground, var(--jp-content-font-color1, white)));\n",
       "    --sklearn-color-background: var(--sg-background-color, var(--theme-background, var(--jp-layout-color0, #111)));\n",
       "    --sklearn-color-border-box: var(--sg-text-color, var(--theme-code-foreground, var(--jp-content-font-color1, white)));\n",
       "    --sklearn-color-icon: #878787;\n",
       "  }\n",
       "}\n",
       "\n",
       "#sk-container-id-1 {\n",
       "  color: var(--sklearn-color-text);\n",
       "}\n",
       "\n",
       "#sk-container-id-1 pre {\n",
       "  padding: 0;\n",
       "}\n",
       "\n",
       "#sk-container-id-1 input.sk-hidden--visually {\n",
       "  border: 0;\n",
       "  clip: rect(1px 1px 1px 1px);\n",
       "  clip: rect(1px, 1px, 1px, 1px);\n",
       "  height: 1px;\n",
       "  margin: -1px;\n",
       "  overflow: hidden;\n",
       "  padding: 0;\n",
       "  position: absolute;\n",
       "  width: 1px;\n",
       "}\n",
       "\n",
       "#sk-container-id-1 div.sk-dashed-wrapped {\n",
       "  border: 1px dashed var(--sklearn-color-line);\n",
       "  margin: 0 0.4em 0.5em 0.4em;\n",
       "  box-sizing: border-box;\n",
       "  padding-bottom: 0.4em;\n",
       "  background-color: var(--sklearn-color-background);\n",
       "}\n",
       "\n",
       "#sk-container-id-1 div.sk-container {\n",
       "  /* jupyter's `normalize.less` sets `[hidden] { display: none; }`\n",
       "     but bootstrap.min.css set `[hidden] { display: none !important; }`\n",
       "     so we also need the `!important` here to be able to override the\n",
       "     default hidden behavior on the sphinx rendered scikit-learn.org.\n",
       "     See: https://github.com/scikit-learn/scikit-learn/issues/21755 */\n",
       "  display: inline-block !important;\n",
       "  position: relative;\n",
       "}\n",
       "\n",
       "#sk-container-id-1 div.sk-text-repr-fallback {\n",
       "  display: none;\n",
       "}\n",
       "\n",
       "div.sk-parallel-item,\n",
       "div.sk-serial,\n",
       "div.sk-item {\n",
       "  /* draw centered vertical line to link estimators */\n",
       "  background-image: linear-gradient(var(--sklearn-color-text-on-default-background), var(--sklearn-color-text-on-default-background));\n",
       "  background-size: 2px 100%;\n",
       "  background-repeat: no-repeat;\n",
       "  background-position: center center;\n",
       "}\n",
       "\n",
       "/* Parallel-specific style estimator block */\n",
       "\n",
       "#sk-container-id-1 div.sk-parallel-item::after {\n",
       "  content: \"\";\n",
       "  width: 100%;\n",
       "  border-bottom: 2px solid var(--sklearn-color-text-on-default-background);\n",
       "  flex-grow: 1;\n",
       "}\n",
       "\n",
       "#sk-container-id-1 div.sk-parallel {\n",
       "  display: flex;\n",
       "  align-items: stretch;\n",
       "  justify-content: center;\n",
       "  background-color: var(--sklearn-color-background);\n",
       "  position: relative;\n",
       "}\n",
       "\n",
       "#sk-container-id-1 div.sk-parallel-item {\n",
       "  display: flex;\n",
       "  flex-direction: column;\n",
       "}\n",
       "\n",
       "#sk-container-id-1 div.sk-parallel-item:first-child::after {\n",
       "  align-self: flex-end;\n",
       "  width: 50%;\n",
       "}\n",
       "\n",
       "#sk-container-id-1 div.sk-parallel-item:last-child::after {\n",
       "  align-self: flex-start;\n",
       "  width: 50%;\n",
       "}\n",
       "\n",
       "#sk-container-id-1 div.sk-parallel-item:only-child::after {\n",
       "  width: 0;\n",
       "}\n",
       "\n",
       "/* Serial-specific style estimator block */\n",
       "\n",
       "#sk-container-id-1 div.sk-serial {\n",
       "  display: flex;\n",
       "  flex-direction: column;\n",
       "  align-items: center;\n",
       "  background-color: var(--sklearn-color-background);\n",
       "  padding-right: 1em;\n",
       "  padding-left: 1em;\n",
       "}\n",
       "\n",
       "\n",
       "/* Toggleable style: style used for estimator/Pipeline/ColumnTransformer box that is\n",
       "clickable and can be expanded/collapsed.\n",
       "- Pipeline and ColumnTransformer use this feature and define the default style\n",
       "- Estimators will overwrite some part of the style using the `sk-estimator` class\n",
       "*/\n",
       "\n",
       "/* Pipeline and ColumnTransformer style (default) */\n",
       "\n",
       "#sk-container-id-1 div.sk-toggleable {\n",
       "  /* Default theme specific background. It is overwritten whether we have a\n",
       "  specific estimator or a Pipeline/ColumnTransformer */\n",
       "  background-color: var(--sklearn-color-background);\n",
       "}\n",
       "\n",
       "/* Toggleable label */\n",
       "#sk-container-id-1 label.sk-toggleable__label {\n",
       "  cursor: pointer;\n",
       "  display: flex;\n",
       "  width: 100%;\n",
       "  margin-bottom: 0;\n",
       "  padding: 0.5em;\n",
       "  box-sizing: border-box;\n",
       "  text-align: center;\n",
       "  align-items: start;\n",
       "  justify-content: space-between;\n",
       "  gap: 0.5em;\n",
       "}\n",
       "\n",
       "#sk-container-id-1 label.sk-toggleable__label .caption {\n",
       "  font-size: 0.6rem;\n",
       "  font-weight: lighter;\n",
       "  color: var(--sklearn-color-text-muted);\n",
       "}\n",
       "\n",
       "#sk-container-id-1 label.sk-toggleable__label-arrow:before {\n",
       "  /* Arrow on the left of the label */\n",
       "  content: \"▸\";\n",
       "  float: left;\n",
       "  margin-right: 0.25em;\n",
       "  color: var(--sklearn-color-icon);\n",
       "}\n",
       "\n",
       "#sk-container-id-1 label.sk-toggleable__label-arrow:hover:before {\n",
       "  color: var(--sklearn-color-text);\n",
       "}\n",
       "\n",
       "/* Toggleable content - dropdown */\n",
       "\n",
       "#sk-container-id-1 div.sk-toggleable__content {\n",
       "  max-height: 0;\n",
       "  max-width: 0;\n",
       "  overflow: hidden;\n",
       "  text-align: left;\n",
       "  /* unfitted */\n",
       "  background-color: var(--sklearn-color-unfitted-level-0);\n",
       "}\n",
       "\n",
       "#sk-container-id-1 div.sk-toggleable__content.fitted {\n",
       "  /* fitted */\n",
       "  background-color: var(--sklearn-color-fitted-level-0);\n",
       "}\n",
       "\n",
       "#sk-container-id-1 div.sk-toggleable__content pre {\n",
       "  margin: 0.2em;\n",
       "  border-radius: 0.25em;\n",
       "  color: var(--sklearn-color-text);\n",
       "  /* unfitted */\n",
       "  background-color: var(--sklearn-color-unfitted-level-0);\n",
       "}\n",
       "\n",
       "#sk-container-id-1 div.sk-toggleable__content.fitted pre {\n",
       "  /* unfitted */\n",
       "  background-color: var(--sklearn-color-fitted-level-0);\n",
       "}\n",
       "\n",
       "#sk-container-id-1 input.sk-toggleable__control:checked~div.sk-toggleable__content {\n",
       "  /* Expand drop-down */\n",
       "  max-height: 200px;\n",
       "  max-width: 100%;\n",
       "  overflow: auto;\n",
       "}\n",
       "\n",
       "#sk-container-id-1 input.sk-toggleable__control:checked~label.sk-toggleable__label-arrow:before {\n",
       "  content: \"▾\";\n",
       "}\n",
       "\n",
       "/* Pipeline/ColumnTransformer-specific style */\n",
       "\n",
       "#sk-container-id-1 div.sk-label input.sk-toggleable__control:checked~label.sk-toggleable__label {\n",
       "  color: var(--sklearn-color-text);\n",
       "  background-color: var(--sklearn-color-unfitted-level-2);\n",
       "}\n",
       "\n",
       "#sk-container-id-1 div.sk-label.fitted input.sk-toggleable__control:checked~label.sk-toggleable__label {\n",
       "  background-color: var(--sklearn-color-fitted-level-2);\n",
       "}\n",
       "\n",
       "/* Estimator-specific style */\n",
       "\n",
       "/* Colorize estimator box */\n",
       "#sk-container-id-1 div.sk-estimator input.sk-toggleable__control:checked~label.sk-toggleable__label {\n",
       "  /* unfitted */\n",
       "  background-color: var(--sklearn-color-unfitted-level-2);\n",
       "}\n",
       "\n",
       "#sk-container-id-1 div.sk-estimator.fitted input.sk-toggleable__control:checked~label.sk-toggleable__label {\n",
       "  /* fitted */\n",
       "  background-color: var(--sklearn-color-fitted-level-2);\n",
       "}\n",
       "\n",
       "#sk-container-id-1 div.sk-label label.sk-toggleable__label,\n",
       "#sk-container-id-1 div.sk-label label {\n",
       "  /* The background is the default theme color */\n",
       "  color: var(--sklearn-color-text-on-default-background);\n",
       "}\n",
       "\n",
       "/* On hover, darken the color of the background */\n",
       "#sk-container-id-1 div.sk-label:hover label.sk-toggleable__label {\n",
       "  color: var(--sklearn-color-text);\n",
       "  background-color: var(--sklearn-color-unfitted-level-2);\n",
       "}\n",
       "\n",
       "/* Label box, darken color on hover, fitted */\n",
       "#sk-container-id-1 div.sk-label.fitted:hover label.sk-toggleable__label.fitted {\n",
       "  color: var(--sklearn-color-text);\n",
       "  background-color: var(--sklearn-color-fitted-level-2);\n",
       "}\n",
       "\n",
       "/* Estimator label */\n",
       "\n",
       "#sk-container-id-1 div.sk-label label {\n",
       "  font-family: monospace;\n",
       "  font-weight: bold;\n",
       "  display: inline-block;\n",
       "  line-height: 1.2em;\n",
       "}\n",
       "\n",
       "#sk-container-id-1 div.sk-label-container {\n",
       "  text-align: center;\n",
       "}\n",
       "\n",
       "/* Estimator-specific */\n",
       "#sk-container-id-1 div.sk-estimator {\n",
       "  font-family: monospace;\n",
       "  border: 1px dotted var(--sklearn-color-border-box);\n",
       "  border-radius: 0.25em;\n",
       "  box-sizing: border-box;\n",
       "  margin-bottom: 0.5em;\n",
       "  /* unfitted */\n",
       "  background-color: var(--sklearn-color-unfitted-level-0);\n",
       "}\n",
       "\n",
       "#sk-container-id-1 div.sk-estimator.fitted {\n",
       "  /* fitted */\n",
       "  background-color: var(--sklearn-color-fitted-level-0);\n",
       "}\n",
       "\n",
       "/* on hover */\n",
       "#sk-container-id-1 div.sk-estimator:hover {\n",
       "  /* unfitted */\n",
       "  background-color: var(--sklearn-color-unfitted-level-2);\n",
       "}\n",
       "\n",
       "#sk-container-id-1 div.sk-estimator.fitted:hover {\n",
       "  /* fitted */\n",
       "  background-color: var(--sklearn-color-fitted-level-2);\n",
       "}\n",
       "\n",
       "/* Specification for estimator info (e.g. \"i\" and \"?\") */\n",
       "\n",
       "/* Common style for \"i\" and \"?\" */\n",
       "\n",
       ".sk-estimator-doc-link,\n",
       "a:link.sk-estimator-doc-link,\n",
       "a:visited.sk-estimator-doc-link {\n",
       "  float: right;\n",
       "  font-size: smaller;\n",
       "  line-height: 1em;\n",
       "  font-family: monospace;\n",
       "  background-color: var(--sklearn-color-background);\n",
       "  border-radius: 1em;\n",
       "  height: 1em;\n",
       "  width: 1em;\n",
       "  text-decoration: none !important;\n",
       "  margin-left: 0.5em;\n",
       "  text-align: center;\n",
       "  /* unfitted */\n",
       "  border: var(--sklearn-color-unfitted-level-1) 1pt solid;\n",
       "  color: var(--sklearn-color-unfitted-level-1);\n",
       "}\n",
       "\n",
       ".sk-estimator-doc-link.fitted,\n",
       "a:link.sk-estimator-doc-link.fitted,\n",
       "a:visited.sk-estimator-doc-link.fitted {\n",
       "  /* fitted */\n",
       "  border: var(--sklearn-color-fitted-level-1) 1pt solid;\n",
       "  color: var(--sklearn-color-fitted-level-1);\n",
       "}\n",
       "\n",
       "/* On hover */\n",
       "div.sk-estimator:hover .sk-estimator-doc-link:hover,\n",
       ".sk-estimator-doc-link:hover,\n",
       "div.sk-label-container:hover .sk-estimator-doc-link:hover,\n",
       ".sk-estimator-doc-link:hover {\n",
       "  /* unfitted */\n",
       "  background-color: var(--sklearn-color-unfitted-level-3);\n",
       "  color: var(--sklearn-color-background);\n",
       "  text-decoration: none;\n",
       "}\n",
       "\n",
       "div.sk-estimator.fitted:hover .sk-estimator-doc-link.fitted:hover,\n",
       ".sk-estimator-doc-link.fitted:hover,\n",
       "div.sk-label-container:hover .sk-estimator-doc-link.fitted:hover,\n",
       ".sk-estimator-doc-link.fitted:hover {\n",
       "  /* fitted */\n",
       "  background-color: var(--sklearn-color-fitted-level-3);\n",
       "  color: var(--sklearn-color-background);\n",
       "  text-decoration: none;\n",
       "}\n",
       "\n",
       "/* Span, style for the box shown on hovering the info icon */\n",
       ".sk-estimator-doc-link span {\n",
       "  display: none;\n",
       "  z-index: 9999;\n",
       "  position: relative;\n",
       "  font-weight: normal;\n",
       "  right: .2ex;\n",
       "  padding: .5ex;\n",
       "  margin: .5ex;\n",
       "  width: min-content;\n",
       "  min-width: 20ex;\n",
       "  max-width: 50ex;\n",
       "  color: var(--sklearn-color-text);\n",
       "  box-shadow: 2pt 2pt 4pt #999;\n",
       "  /* unfitted */\n",
       "  background: var(--sklearn-color-unfitted-level-0);\n",
       "  border: .5pt solid var(--sklearn-color-unfitted-level-3);\n",
       "}\n",
       "\n",
       ".sk-estimator-doc-link.fitted span {\n",
       "  /* fitted */\n",
       "  background: var(--sklearn-color-fitted-level-0);\n",
       "  border: var(--sklearn-color-fitted-level-3);\n",
       "}\n",
       "\n",
       ".sk-estimator-doc-link:hover span {\n",
       "  display: block;\n",
       "}\n",
       "\n",
       "/* \"?\"-specific style due to the `<a>` HTML tag */\n",
       "\n",
       "#sk-container-id-1 a.estimator_doc_link {\n",
       "  float: right;\n",
       "  font-size: 1rem;\n",
       "  line-height: 1em;\n",
       "  font-family: monospace;\n",
       "  background-color: var(--sklearn-color-background);\n",
       "  border-radius: 1rem;\n",
       "  height: 1rem;\n",
       "  width: 1rem;\n",
       "  text-decoration: none;\n",
       "  /* unfitted */\n",
       "  color: var(--sklearn-color-unfitted-level-1);\n",
       "  border: var(--sklearn-color-unfitted-level-1) 1pt solid;\n",
       "}\n",
       "\n",
       "#sk-container-id-1 a.estimator_doc_link.fitted {\n",
       "  /* fitted */\n",
       "  border: var(--sklearn-color-fitted-level-1) 1pt solid;\n",
       "  color: var(--sklearn-color-fitted-level-1);\n",
       "}\n",
       "\n",
       "/* On hover */\n",
       "#sk-container-id-1 a.estimator_doc_link:hover {\n",
       "  /* unfitted */\n",
       "  background-color: var(--sklearn-color-unfitted-level-3);\n",
       "  color: var(--sklearn-color-background);\n",
       "  text-decoration: none;\n",
       "}\n",
       "\n",
       "#sk-container-id-1 a.estimator_doc_link.fitted:hover {\n",
       "  /* fitted */\n",
       "  background-color: var(--sklearn-color-fitted-level-3);\n",
       "}\n",
       "</style><div id=\"sk-container-id-1\" class=\"sk-top-container\"><div class=\"sk-text-repr-fallback\"><pre>LogisticRegression()</pre><b>In a Jupyter environment, please rerun this cell to show the HTML representation or trust the notebook. <br />On GitHub, the HTML representation is unable to render, please try loading this page with nbviewer.org.</b></div><div class=\"sk-container\" hidden><div class=\"sk-item\"><div class=\"sk-estimator fitted sk-toggleable\"><input class=\"sk-toggleable__control sk-hidden--visually\" id=\"sk-estimator-id-1\" type=\"checkbox\" checked><label for=\"sk-estimator-id-1\" class=\"sk-toggleable__label fitted sk-toggleable__label-arrow\"><div><div>LogisticRegression</div></div><div><a class=\"sk-estimator-doc-link fitted\" rel=\"noreferrer\" target=\"_blank\" href=\"https://scikit-learn.org/1.6/modules/generated/sklearn.linear_model.LogisticRegression.html\">?<span>Documentation for LogisticRegression</span></a><span class=\"sk-estimator-doc-link fitted\">i<span>Fitted</span></span></div></label><div class=\"sk-toggleable__content fitted\"><pre>LogisticRegression()</pre></div> </div></div></div></div>"
      ],
      "text/plain": [
       "LogisticRegression()"
      ]
     },
     "execution_count": 41,
     "metadata": {},
     "output_type": "execute_result"
    }
   ],
   "source": [
    "# Initialize and train the model\n",
    "Model_LR = LogisticRegression()\n",
    "Model_LR.fit(X_train_scaled, y_train)\n"
   ]
  },
  {
   "cell_type": "code",
   "execution_count": 42,
   "id": "f4f2b50b",
   "metadata": {},
   "outputs": [],
   "source": [
    "# Make predictions\n",
    "y_pred_LR = Model_LR.predict(X_test_scaled)\n"
   ]
  },
  {
   "cell_type": "code",
   "execution_count": 43,
   "id": "79af0847",
   "metadata": {},
   "outputs": [
    {
     "name": "stdout",
     "output_type": "stream",
     "text": [
      "Training accuracy: 70.84 %\n",
      "Testing accuracy: 76.83 %\n"
     ]
    }
   ],
   "source": [
    "\n",
    "# Quick evaluation\n",
    "Train_Accuracy_LR = Model_LR.score(X_train_scaled, y_train)\n",
    "Test_Accuracy_LR = Model_LR.score(X_test_scaled, y_test)\n",
    "\n",
    "print(f'Training accuracy: {Train_Accuracy_LR*100:.2f} %')\n",
    "print(f'Testing accuracy: {Test_Accuracy_LR*100:.2f} %')\n"
   ]
  },
  {
   "cell_type": "code",
   "execution_count": 44,
   "id": "7ce1f693",
   "metadata": {},
   "outputs": [
    {
     "data": {
      "image/png": "[encoded data removed]",
      "text/plain": [
       "<Figure size 640x480 with 2 Axes>"
      ]
     },
     "metadata": {},
     "output_type": "display_data"
    }
   ],
   "source": [
    "\n",
    "# Confusion Matrix\n",
    "CM_LR = confusion_matrix(y_true=y_test, y_pred=y_pred_LR)\n",
    "ConfusionMatrixDisplay(CM_LR, display_labels=data['Outcome'].unique()).plot()\n",
    "plt.title('Confusion Matrix Without Normalization')\n",
    "plt.show()\n"
   ]
  },
  {
   "cell_type": "code",
   "execution_count": 45,
   "id": "2e41b034",
   "metadata": {},
   "outputs": [
    {
     "name": "stdout",
     "output_type": "stream",
     "text": [
      "              precision    recall  f1-score   support\n",
      "\n",
      "           0       0.76      0.81      0.78       213\n",
      "           1       0.78      0.73      0.75       197\n",
      "\n",
      "    accuracy                           0.77       410\n",
      "   macro avg       0.77      0.77      0.77       410\n",
      "weighted avg       0.77      0.77      0.77       410\n",
      "\n",
      "➤➤➤ Accuracy Score :  76.83 %\n",
      "\n",
      "➤➤➤ Precision Score :  77.72 %\n",
      "\n",
      "➤➤➤ Recall Score :  72.59 %\n",
      "\n",
      "➤➤➤ F1 Score :  75.07 %\n",
      "\n"
     ]
    }
   ],
   "source": [
    "\n",
    "# Classification Report\n",
    "print(classification_report(y_test, y_pred_LR))\n",
    "\n",
    "# Accuracy\n",
    "Accuracy_LR = accuracy_score(y_test, y_pred_LR)\n",
    "print(f'➤➤➤ Accuracy Score : {Accuracy_LR * 100 : .2f} %\\n')\n",
    "\n",
    "# Precision\n",
    "Precision_LR = precision_score(y_test, y_pred_LR)\n",
    "print(f'➤➤➤ Precision Score : {Precision_LR * 100 : .2f} %\\n')\n",
    "\n",
    "# Recall\n",
    "Recall_LR = recall_score(y_test, y_pred_LR)\n",
    "print(f'➤➤➤ Recall Score : {Recall_LR * 100 : .2f} %\\n')\n",
    "\n",
    "# F1 Score\n",
    "F1_Score_LR = f1_score(y_test, y_pred_LR)\n",
    "print(f'➤➤➤ F1 Score : {F1_Score_LR * 100 : .2f} %\\n')\n",
    "\n"
   ]
  },
  {
   "cell_type": "code",
   "execution_count": 46,
   "id": "5a807fe4",
   "metadata": {},
   "outputs": [
    {
     "data": {
      "image/png": "[encoded data removed]",
      "text/plain": [
       "<Figure size 1000x600 with 1 Axes>"
      ]
     },
     "metadata": {},
     "output_type": "display_data"
    }
   ],
   "source": [
    "# Define the evaluation metrics and their scores\n",
    "metrics_LR = ['Accuracy', 'Precision', 'Recall', 'F1 Score']\n",
    "scores_LR = [Accuracy_LR, Precision_LR, Recall_LR, F1_Score_LR]\n",
    "\n",
    "# Plotting the bar chart\n",
    "plt.figure(figsize=(10, 6))\n",
    "plt.bar(metrics_LR, scores_LR, color=['blue', 'green', 'red', 'orange'])\n",
    "plt.title('Performance Metrics of Logistic Regression Model')\n",
    "plt.xlabel('Metrics')\n",
    "plt.ylabel('Score')\n",
    "plt.ylim(0.1, 1)\n",
    "plt.yticks([0.1, 0.2, 0.3, 0.4, 0.5, 0.6, 0.7, 0.8, 0.9, 1.0])\n",
    "plt.grid(axis='y', alpha=1)\n",
    "plt.show()"
   ]
  },
  {
   "cell_type": "markdown",
   "id": "7f0d248a",
   "metadata": {
    "papermill": {
     "duration": 0.032049,
     "end_time": "2024-06-16T09:04:59.195472",
     "exception": false,
     "start_time": "2024-06-16T09:04:59.163423",
     "status": "completed"
    },
    "tags": []
   },
   "source": [
    "# <font color='DarkSlateGrey'>⚑ Applying \"Random Forest Scaled\" Algorithm</font>"
   ]
  },
  {
   "cell_type": "code",
   "execution_count": 47,
   "id": "f1f46121",
   "metadata": {
    "execution": {
     "iopub.execute_input": "2024-06-16T09:04:59.263109Z",
     "iopub.status.busy": "2024-06-16T09:04:59.262609Z",
     "iopub.status.idle": "2024-06-16T09:04:59.651498Z",
     "shell.execute_reply": "2024-06-16T09:04:59.649774Z"
    },
    "papermill": {
     "duration": 0.426823,
     "end_time": "2024-06-16T09:04:59.654369",
     "exception": false,
     "start_time": "2024-06-16T09:04:59.227546",
     "status": "completed"
    },
    "tags": []
   },
   "outputs": [
    {
     "data": {
      "text/plain": [
       "\"\\nModel_RF = RandomForestClassifier(random_state=42, max_depth=7)\\nModel_RF.fit(X_train_scaled, y_train)\\ny_pred_RF = Model_RF.predict(X_test_scaled)\\n\\n# Quick evaluation\\nTrain_Accuracy = Model_RF.score(X_train_scaled, y_train)\\nTest_Accuracy = Model_RF.score(X_test_scaled, y_test)\\nprint(f'Training accuracy: {Train_Accuracy*100:.2f} %')\\nprint(f'Testing accuracy: {Test_Accuracy*100:.2f} %')\\n\\n# Gap = 0.00\\n\\n\""
      ]
     },
     "execution_count": 47,
     "metadata": {},
     "output_type": "execute_result"
    }
   ],
   "source": [
    "'''\n",
    "Model_RF = RandomForestClassifier(random_state=42, max_depth=7)\n",
    "Model_RF.fit(X_train_scaled, y_train)\n",
    "y_pred_RF = Model_RF.predict(X_test_scaled)\n",
    "\n",
    "# Quick evaluation\n",
    "Train_Accuracy = Model_RF.score(X_train_scaled, y_train)\n",
    "Test_Accuracy = Model_RF.score(X_test_scaled, y_test)\n",
    "print(f'Training accuracy: {Train_Accuracy*100:.2f} %')\n",
    "print(f'Testing accuracy: {Test_Accuracy*100:.2f} %')\n",
    "\n",
    "# Gap = 0.00\n",
    "\n",
    "'''"
   ]
  },
  {
   "cell_type": "code",
   "execution_count": 48,
   "id": "2fa8fe41",
   "metadata": {
    "execution": {
     "iopub.execute_input": "2024-06-16T09:04:59.787878Z",
     "iopub.status.busy": "2024-06-16T09:04:59.786835Z",
     "iopub.status.idle": "2024-06-16T09:05:00.289043Z",
     "shell.execute_reply": "2024-06-16T09:05:00.287501Z"
    },
    "papermill": {
     "duration": 0.539687,
     "end_time": "2024-06-16T09:05:00.291751",
     "exception": false,
     "start_time": "2024-06-16T09:04:59.752064",
     "status": "completed"
    },
    "tags": []
   },
   "outputs": [
    {
     "data": {
      "text/plain": [
       "\"\\n# Confusion Matrix\\n\\nCM = confusion_matrix(y_true=y_test, y_pred=y_pred_RF)\\nConfusionMatrixDisplay(CM, display_labels=data['Outcome'].unique()).plot()\\nplt.title('Confusion Matrix')\\nplt.show()\\n\\n\""
      ]
     },
     "execution_count": 48,
     "metadata": {},
     "output_type": "execute_result"
    }
   ],
   "source": [
    "'''\n",
    "# Confusion Matrix\n",
    "\n",
    "CM = confusion_matrix(y_true=y_test, y_pred=y_pred_RF)\n",
    "ConfusionMatrixDisplay(CM, display_labels=data['Outcome'].unique()).plot()\n",
    "plt.title('Confusion Matrix')\n",
    "plt.show()\n",
    "\n",
    "'''"
   ]
  },
  {
   "cell_type": "code",
   "execution_count": 49,
   "id": "78b9d812",
   "metadata": {
    "execution": {
     "iopub.execute_input": "2024-06-16T09:05:00.358487Z",
     "iopub.status.busy": "2024-06-16T09:05:00.357989Z",
     "iopub.status.idle": "2024-06-16T09:05:00.376374Z",
     "shell.execute_reply": "2024-06-16T09:05:00.374668Z"
    },
    "papermill": {
     "duration": 0.055295,
     "end_time": "2024-06-16T09:05:00.379371",
     "exception": false,
     "start_time": "2024-06-16T09:05:00.324076",
     "status": "completed"
    },
    "tags": []
   },
   "outputs": [
    {
     "data": {
      "text/plain": [
       "'\\nprint(classification_report(y_test, y_pred_RF))\\n'"
      ]
     },
     "execution_count": 49,
     "metadata": {},
     "output_type": "execute_result"
    }
   ],
   "source": [
    "'''\n",
    "print(classification_report(y_test, y_pred_RF))\n",
    "'''"
   ]
  },
  {
   "cell_type": "code",
   "execution_count": 50,
   "id": "32bdc46a",
   "metadata": {
    "execution": {
     "iopub.execute_input": "2024-06-16T09:05:00.451512Z",
     "iopub.status.busy": "2024-06-16T09:05:00.451037Z",
     "iopub.status.idle": "2024-06-16T09:05:00.469504Z",
     "shell.execute_reply": "2024-06-16T09:05:00.468328Z"
    },
    "papermill": {
     "duration": 0.058785,
     "end_time": "2024-06-16T09:05:00.472201",
     "exception": false,
     "start_time": "2024-06-16T09:05:00.413416",
     "status": "completed"
    },
    "tags": []
   },
   "outputs": [
    {
     "data": {
      "text/plain": [
       "\"\\n# Accuracy = (TP + TN) / (TP + TN + FP + FN)\\nAccuracy_RF = accuracy_score(y_test, y_pred_RF)\\nprint(f'➤➤➤ Accuracy Score : {Accuracy_RF * 100 : .2f} %\\n')\\n\\n\\n# Precision = TP / (TP + FP)\\nPrecision_RF = precision_score(y_test, y_pred_RF)\\nprint(f'➤➤➤ Precision Score : {Precision_RF * 100 : .2f} %\\n')\\n\\n\\n# Recall/Sensitivity = TP / (TP + FN)\\nRecall_RF = recall_score(y_test, y_pred_RF)\\nprint(f'➤➤➤ Recall Score : {Recall_RF * 100 : .2f} %\\n')\\n\\n\\n# F1 Score = 2 × ((Precision * Recall) / (Precision + Recall))\\nF1_Score_RF = f1_score(y_test, y_pred_RF)\\nprint(f'➤➤➤ F1 Score : {F1_Score_RF * 100 : .2f} %\\n')\\n\""
      ]
     },
     "execution_count": 50,
     "metadata": {},
     "output_type": "execute_result"
    }
   ],
   "source": [
    "'''\n",
    "# Accuracy = (TP + TN) / (TP + TN + FP + FN)\n",
    "Accuracy_RF = accuracy_score(y_test, y_pred_RF)\n",
    "print(f'➤➤➤ Accuracy Score : {Accuracy_RF * 100 : .2f} %\\n')\n",
    "\n",
    "\n",
    "# Precision = TP / (TP + FP)\n",
    "Precision_RF = precision_score(y_test, y_pred_RF)\n",
    "print(f'➤➤➤ Precision Score : {Precision_RF * 100 : .2f} %\\n')\n",
    "\n",
    "\n",
    "# Recall/Sensitivity = TP / (TP + FN)\n",
    "Recall_RF = recall_score(y_test, y_pred_RF)\n",
    "print(f'➤➤➤ Recall Score : {Recall_RF * 100 : .2f} %\\n')\n",
    "\n",
    "\n",
    "# F1 Score = 2 × ((Precision * Recall) / (Precision + Recall))\n",
    "F1_Score_RF = f1_score(y_test, y_pred_RF)\n",
    "print(f'➤➤➤ F1 Score : {F1_Score_RF * 100 : .2f} %\\n')\n",
    "'''"
   ]
  },
  {
   "cell_type": "code",
   "execution_count": 51,
   "id": "84322486",
   "metadata": {
    "execution": {
     "iopub.execute_input": "2024-06-16T09:05:00.543958Z",
     "iopub.status.busy": "2024-06-16T09:05:00.543489Z",
     "iopub.status.idle": "2024-06-16T09:05:00.844678Z",
     "shell.execute_reply": "2024-06-16T09:05:00.843104Z"
    },
    "papermill": {
     "duration": 0.341179,
     "end_time": "2024-06-16T09:05:00.847591",
     "exception": false,
     "start_time": "2024-06-16T09:05:00.506412",
     "status": "completed"
    },
    "tags": []
   },
   "outputs": [
    {
     "data": {
      "text/plain": [
       "\"\\n# Define the evaluation metrics and their scores\\nmetrics = ['Accuracy', 'Precision', 'Recall', 'F1 Score']\\nscores = [Accuracy_RF, Precision_RF, Recall_RF, F1_Score_RF]\\n\\n# Plotting the bar chart\\nplt.figure(figsize=(10, 6))\\nplt.bar(metrics, scores, color=['blue', 'green', 'red', 'orange'])\\nplt.title('Performance Metrics of Random Forest Model')\\nplt.xlabel('Metrics')\\nplt.ylabel('Score')\\nplt.ylim(0.1, 1)\\nplt.yticks([0.1, 0.2, 0.3, 0.4, 0.5, 0.6, 0.7, 0.8, 0.9, 1.0])\\nplt.grid(axis='y', alpha=1)\\nplt.show()\\n\\n\""
      ]
     },
     "execution_count": 51,
     "metadata": {},
     "output_type": "execute_result"
    }
   ],
   "source": [
    "'''\n",
    "# Define the evaluation metrics and their scores\n",
    "metrics = ['Accuracy', 'Precision', 'Recall', 'F1 Score']\n",
    "scores = [Accuracy_RF, Precision_RF, Recall_RF, F1_Score_RF]\n",
    "\n",
    "# Plotting the bar chart\n",
    "plt.figure(figsize=(10, 6))\n",
    "plt.bar(metrics, scores, color=['blue', 'green', 'red', 'orange'])\n",
    "plt.title('Performance Metrics of Random Forest Model')\n",
    "plt.xlabel('Metrics')\n",
    "plt.ylabel('Score')\n",
    "plt.ylim(0.1, 1)\n",
    "plt.yticks([0.1, 0.2, 0.3, 0.4, 0.5, 0.6, 0.7, 0.8, 0.9, 1.0])\n",
    "plt.grid(axis='y', alpha=1)\n",
    "plt.show()\n",
    "\n",
    "'''"
   ]
  },
  {
   "cell_type": "markdown",
   "id": "ea8952ff",
   "metadata": {},
   "source": [
    "# <font color='DarkSlateGrey'>⚑ Applying \"Random Forest Not Scaled\" Algorithm</font>"
   ]
  },
  {
   "cell_type": "code",
   "execution_count": 52,
   "id": "b193a7a4",
   "metadata": {},
   "outputs": [
    {
     "data": {
      "text/html": [
       "<style>#sk-container-id-2 {\n",
       "  /* Definition of color scheme common for light and dark mode */\n",
       "  --sklearn-color-text: #000;\n",
       "  --sklearn-color-text-muted: #666;\n",
       "  --sklearn-color-line: gray;\n",
       "  /* Definition of color scheme for unfitted estimators */\n",
       "  --sklearn-color-unfitted-level-0: #fff5e6;\n",
       "  --sklearn-color-unfitted-level-1: #f6e4d2;\n",
       "  --sklearn-color-unfitted-level-2: #ffe0b3;\n",
       "  --sklearn-color-unfitted-level-3: chocolate;\n",
       "  /* Definition of color scheme for fitted estimators */\n",
       "  --sklearn-color-fitted-level-0: #f0f8ff;\n",
       "  --sklearn-color-fitted-level-1: #d4ebff;\n",
       "  --sklearn-color-fitted-level-2: #b3dbfd;\n",
       "  --sklearn-color-fitted-level-3: cornflowerblue;\n",
       "\n",
       "  /* Specific color for light theme */\n",
       "  --sklearn-color-text-on-default-background: var(--sg-text-color, var(--theme-code-foreground, var(--jp-content-font-color1, black)));\n",
       "  --sklearn-color-background: var(--sg-background-color, var(--theme-background, var(--jp-layout-color0, white)));\n",
       "  --sklearn-color-border-box: var(--sg-text-color, var(--theme-code-foreground, var(--jp-content-font-color1, black)));\n",
       "  --sklearn-color-icon: #696969;\n",
       "\n",
       "  @media (prefers-color-scheme: dark) {\n",
       "    /* Redefinition of color scheme for dark theme */\n",
       "    --sklearn-color-text-on-default-background: var(--sg-text-color, var(--theme-code-foreground, var(--jp-content-font-color1, white)));\n",
       "    --sklearn-color-background: var(--sg-background-color, var(--theme-background, var(--jp-layout-color0, #111)));\n",
       "    --sklearn-color-border-box: var(--sg-text-color, var(--theme-code-foreground, var(--jp-content-font-color1, white)));\n",
       "    --sklearn-color-icon: #878787;\n",
       "  }\n",
       "}\n",
       "\n",
       "#sk-container-id-2 {\n",
       "  color: var(--sklearn-color-text);\n",
       "}\n",
       "\n",
       "#sk-container-id-2 pre {\n",
       "  padding: 0;\n",
       "}\n",
       "\n",
       "#sk-container-id-2 input.sk-hidden--visually {\n",
       "  border: 0;\n",
       "  clip: rect(1px 1px 1px 1px);\n",
       "  clip: rect(1px, 1px, 1px, 1px);\n",
       "  height: 1px;\n",
       "  margin: -1px;\n",
       "  overflow: hidden;\n",
       "  padding: 0;\n",
       "  position: absolute;\n",
       "  width: 1px;\n",
       "}\n",
       "\n",
       "#sk-container-id-2 div.sk-dashed-wrapped {\n",
       "  border: 1px dashed var(--sklearn-color-line);\n",
       "  margin: 0 0.4em 0.5em 0.4em;\n",
       "  box-sizing: border-box;\n",
       "  padding-bottom: 0.4em;\n",
       "  background-color: var(--sklearn-color-background);\n",
       "}\n",
       "\n",
       "#sk-container-id-2 div.sk-container {\n",
       "  /* jupyter's `normalize.less` sets `[hidden] { display: none; }`\n",
       "     but bootstrap.min.css set `[hidden] { display: none !important; }`\n",
       "     so we also need the `!important` here to be able to override the\n",
       "     default hidden behavior on the sphinx rendered scikit-learn.org.\n",
       "     See: https://github.com/scikit-learn/scikit-learn/issues/21755 */\n",
       "  display: inline-block !important;\n",
       "  position: relative;\n",
       "}\n",
       "\n",
       "#sk-container-id-2 div.sk-text-repr-fallback {\n",
       "  display: none;\n",
       "}\n",
       "\n",
       "div.sk-parallel-item,\n",
       "div.sk-serial,\n",
       "div.sk-item {\n",
       "  /* draw centered vertical line to link estimators */\n",
       "  background-image: linear-gradient(var(--sklearn-color-text-on-default-background), var(--sklearn-color-text-on-default-background));\n",
       "  background-size: 2px 100%;\n",
       "  background-repeat: no-repeat;\n",
       "  background-position: center center;\n",
       "}\n",
       "\n",
       "/* Parallel-specific style estimator block */\n",
       "\n",
       "#sk-container-id-2 div.sk-parallel-item::after {\n",
       "  content: \"\";\n",
       "  width: 100%;\n",
       "  border-bottom: 2px solid var(--sklearn-color-text-on-default-background);\n",
       "  flex-grow: 1;\n",
       "}\n",
       "\n",
       "#sk-container-id-2 div.sk-parallel {\n",
       "  display: flex;\n",
       "  align-items: stretch;\n",
       "  justify-content: center;\n",
       "  background-color: var(--sklearn-color-background);\n",
       "  position: relative;\n",
       "}\n",
       "\n",
       "#sk-container-id-2 div.sk-parallel-item {\n",
       "  display: flex;\n",
       "  flex-direction: column;\n",
       "}\n",
       "\n",
       "#sk-container-id-2 div.sk-parallel-item:first-child::after {\n",
       "  align-self: flex-end;\n",
       "  width: 50%;\n",
       "}\n",
       "\n",
       "#sk-container-id-2 div.sk-parallel-item:last-child::after {\n",
       "  align-self: flex-start;\n",
       "  width: 50%;\n",
       "}\n",
       "\n",
       "#sk-container-id-2 div.sk-parallel-item:only-child::after {\n",
       "  width: 0;\n",
       "}\n",
       "\n",
       "/* Serial-specific style estimator block */\n",
       "\n",
       "#sk-container-id-2 div.sk-serial {\n",
       "  display: flex;\n",
       "  flex-direction: column;\n",
       "  align-items: center;\n",
       "  background-color: var(--sklearn-color-background);\n",
       "  padding-right: 1em;\n",
       "  padding-left: 1em;\n",
       "}\n",
       "\n",
       "\n",
       "/* Toggleable style: style used for estimator/Pipeline/ColumnTransformer box that is\n",
       "clickable and can be expanded/collapsed.\n",
       "- Pipeline and ColumnTransformer use this feature and define the default style\n",
       "- Estimators will overwrite some part of the style using the `sk-estimator` class\n",
       "*/\n",
       "\n",
       "/* Pipeline and ColumnTransformer style (default) */\n",
       "\n",
       "#sk-container-id-2 div.sk-toggleable {\n",
       "  /* Default theme specific background. It is overwritten whether we have a\n",
       "  specific estimator or a Pipeline/ColumnTransformer */\n",
       "  background-color: var(--sklearn-color-background);\n",
       "}\n",
       "\n",
       "/* Toggleable label */\n",
       "#sk-container-id-2 label.sk-toggleable__label {\n",
       "  cursor: pointer;\n",
       "  display: flex;\n",
       "  width: 100%;\n",
       "  margin-bottom: 0;\n",
       "  padding: 0.5em;\n",
       "  box-sizing: border-box;\n",
       "  text-align: center;\n",
       "  align-items: start;\n",
       "  justify-content: space-between;\n",
       "  gap: 0.5em;\n",
       "}\n",
       "\n",
       "#sk-container-id-2 label.sk-toggleable__label .caption {\n",
       "  font-size: 0.6rem;\n",
       "  font-weight: lighter;\n",
       "  color: var(--sklearn-color-text-muted);\n",
       "}\n",
       "\n",
       "#sk-container-id-2 label.sk-toggleable__label-arrow:before {\n",
       "  /* Arrow on the left of the label */\n",
       "  content: \"▸\";\n",
       "  float: left;\n",
       "  margin-right: 0.25em;\n",
       "  color: var(--sklearn-color-icon);\n",
       "}\n",
       "\n",
       "#sk-container-id-2 label.sk-toggleable__label-arrow:hover:before {\n",
       "  color: var(--sklearn-color-text);\n",
       "}\n",
       "\n",
       "/* Toggleable content - dropdown */\n",
       "\n",
       "#sk-container-id-2 div.sk-toggleable__content {\n",
       "  max-height: 0;\n",
       "  max-width: 0;\n",
       "  overflow: hidden;\n",
       "  text-align: left;\n",
       "  /* unfitted */\n",
       "  background-color: var(--sklearn-color-unfitted-level-0);\n",
       "}\n",
       "\n",
       "#sk-container-id-2 div.sk-toggleable__content.fitted {\n",
       "  /* fitted */\n",
       "  background-color: var(--sklearn-color-fitted-level-0);\n",
       "}\n",
       "\n",
       "#sk-container-id-2 div.sk-toggleable__content pre {\n",
       "  margin: 0.2em;\n",
       "  border-radius: 0.25em;\n",
       "  color: var(--sklearn-color-text);\n",
       "  /* unfitted */\n",
       "  background-color: var(--sklearn-color-unfitted-level-0);\n",
       "}\n",
       "\n",
       "#sk-container-id-2 div.sk-toggleable__content.fitted pre {\n",
       "  /* unfitted */\n",
       "  background-color: var(--sklearn-color-fitted-level-0);\n",
       "}\n",
       "\n",
       "#sk-container-id-2 input.sk-toggleable__control:checked~div.sk-toggleable__content {\n",
       "  /* Expand drop-down */\n",
       "  max-height: 200px;\n",
       "  max-width: 100%;\n",
       "  overflow: auto;\n",
       "}\n",
       "\n",
       "#sk-container-id-2 input.sk-toggleable__control:checked~label.sk-toggleable__label-arrow:before {\n",
       "  content: \"▾\";\n",
       "}\n",
       "\n",
       "/* Pipeline/ColumnTransformer-specific style */\n",
       "\n",
       "#sk-container-id-2 div.sk-label input.sk-toggleable__control:checked~label.sk-toggleable__label {\n",
       "  color: var(--sklearn-color-text);\n",
       "  background-color: var(--sklearn-color-unfitted-level-2);\n",
       "}\n",
       "\n",
       "#sk-container-id-2 div.sk-label.fitted input.sk-toggleable__control:checked~label.sk-toggleable__label {\n",
       "  background-color: var(--sklearn-color-fitted-level-2);\n",
       "}\n",
       "\n",
       "/* Estimator-specific style */\n",
       "\n",
       "/* Colorize estimator box */\n",
       "#sk-container-id-2 div.sk-estimator input.sk-toggleable__control:checked~label.sk-toggleable__label {\n",
       "  /* unfitted */\n",
       "  background-color: var(--sklearn-color-unfitted-level-2);\n",
       "}\n",
       "\n",
       "#sk-container-id-2 div.sk-estimator.fitted input.sk-toggleable__control:checked~label.sk-toggleable__label {\n",
       "  /* fitted */\n",
       "  background-color: var(--sklearn-color-fitted-level-2);\n",
       "}\n",
       "\n",
       "#sk-container-id-2 div.sk-label label.sk-toggleable__label,\n",
       "#sk-container-id-2 div.sk-label label {\n",
       "  /* The background is the default theme color */\n",
       "  color: var(--sklearn-color-text-on-default-background);\n",
       "}\n",
       "\n",
       "/* On hover, darken the color of the background */\n",
       "#sk-container-id-2 div.sk-label:hover label.sk-toggleable__label {\n",
       "  color: var(--sklearn-color-text);\n",
       "  background-color: var(--sklearn-color-unfitted-level-2);\n",
       "}\n",
       "\n",
       "/* Label box, darken color on hover, fitted */\n",
       "#sk-container-id-2 div.sk-label.fitted:hover label.sk-toggleable__label.fitted {\n",
       "  color: var(--sklearn-color-text);\n",
       "  background-color: var(--sklearn-color-fitted-level-2);\n",
       "}\n",
       "\n",
       "/* Estimator label */\n",
       "\n",
       "#sk-container-id-2 div.sk-label label {\n",
       "  font-family: monospace;\n",
       "  font-weight: bold;\n",
       "  display: inline-block;\n",
       "  line-height: 1.2em;\n",
       "}\n",
       "\n",
       "#sk-container-id-2 div.sk-label-container {\n",
       "  text-align: center;\n",
       "}\n",
       "\n",
       "/* Estimator-specific */\n",
       "#sk-container-id-2 div.sk-estimator {\n",
       "  font-family: monospace;\n",
       "  border: 1px dotted var(--sklearn-color-border-box);\n",
       "  border-radius: 0.25em;\n",
       "  box-sizing: border-box;\n",
       "  margin-bottom: 0.5em;\n",
       "  /* unfitted */\n",
       "  background-color: var(--sklearn-color-unfitted-level-0);\n",
       "}\n",
       "\n",
       "#sk-container-id-2 div.sk-estimator.fitted {\n",
       "  /* fitted */\n",
       "  background-color: var(--sklearn-color-fitted-level-0);\n",
       "}\n",
       "\n",
       "/* on hover */\n",
       "#sk-container-id-2 div.sk-estimator:hover {\n",
       "  /* unfitted */\n",
       "  background-color: var(--sklearn-color-unfitted-level-2);\n",
       "}\n",
       "\n",
       "#sk-container-id-2 div.sk-estimator.fitted:hover {\n",
       "  /* fitted */\n",
       "  background-color: var(--sklearn-color-fitted-level-2);\n",
       "}\n",
       "\n",
       "/* Specification for estimator info (e.g. \"i\" and \"?\") */\n",
       "\n",
       "/* Common style for \"i\" and \"?\" */\n",
       "\n",
       ".sk-estimator-doc-link,\n",
       "a:link.sk-estimator-doc-link,\n",
       "a:visited.sk-estimator-doc-link {\n",
       "  float: right;\n",
       "  font-size: smaller;\n",
       "  line-height: 1em;\n",
       "  font-family: monospace;\n",
       "  background-color: var(--sklearn-color-background);\n",
       "  border-radius: 1em;\n",
       "  height: 1em;\n",
       "  width: 1em;\n",
       "  text-decoration: none !important;\n",
       "  margin-left: 0.5em;\n",
       "  text-align: center;\n",
       "  /* unfitted */\n",
       "  border: var(--sklearn-color-unfitted-level-1) 1pt solid;\n",
       "  color: var(--sklearn-color-unfitted-level-1);\n",
       "}\n",
       "\n",
       ".sk-estimator-doc-link.fitted,\n",
       "a:link.sk-estimator-doc-link.fitted,\n",
       "a:visited.sk-estimator-doc-link.fitted {\n",
       "  /* fitted */\n",
       "  border: var(--sklearn-color-fitted-level-1) 1pt solid;\n",
       "  color: var(--sklearn-color-fitted-level-1);\n",
       "}\n",
       "\n",
       "/* On hover */\n",
       "div.sk-estimator:hover .sk-estimator-doc-link:hover,\n",
       ".sk-estimator-doc-link:hover,\n",
       "div.sk-label-container:hover .sk-estimator-doc-link:hover,\n",
       ".sk-estimator-doc-link:hover {\n",
       "  /* unfitted */\n",
       "  background-color: var(--sklearn-color-unfitted-level-3);\n",
       "  color: var(--sklearn-color-background);\n",
       "  text-decoration: none;\n",
       "}\n",
       "\n",
       "div.sk-estimator.fitted:hover .sk-estimator-doc-link.fitted:hover,\n",
       ".sk-estimator-doc-link.fitted:hover,\n",
       "div.sk-label-container:hover .sk-estimator-doc-link.fitted:hover,\n",
       ".sk-estimator-doc-link.fitted:hover {\n",
       "  /* fitted */\n",
       "  background-color: var(--sklearn-color-fitted-level-3);\n",
       "  color: var(--sklearn-color-background);\n",
       "  text-decoration: none;\n",
       "}\n",
       "\n",
       "/* Span, style for the box shown on hovering the info icon */\n",
       ".sk-estimator-doc-link span {\n",
       "  display: none;\n",
       "  z-index: 9999;\n",
       "  position: relative;\n",
       "  font-weight: normal;\n",
       "  right: .2ex;\n",
       "  padding: .5ex;\n",
       "  margin: .5ex;\n",
       "  width: min-content;\n",
       "  min-width: 20ex;\n",
       "  max-width: 50ex;\n",
       "  color: var(--sklearn-color-text);\n",
       "  box-shadow: 2pt 2pt 4pt #999;\n",
       "  /* unfitted */\n",
       "  background: var(--sklearn-color-unfitted-level-0);\n",
       "  border: .5pt solid var(--sklearn-color-unfitted-level-3);\n",
       "}\n",
       "\n",
       ".sk-estimator-doc-link.fitted span {\n",
       "  /* fitted */\n",
       "  background: var(--sklearn-color-fitted-level-0);\n",
       "  border: var(--sklearn-color-fitted-level-3);\n",
       "}\n",
       "\n",
       ".sk-estimator-doc-link:hover span {\n",
       "  display: block;\n",
       "}\n",
       "\n",
       "/* \"?\"-specific style due to the `<a>` HTML tag */\n",
       "\n",
       "#sk-container-id-2 a.estimator_doc_link {\n",
       "  float: right;\n",
       "  font-size: 1rem;\n",
       "  line-height: 1em;\n",
       "  font-family: monospace;\n",
       "  background-color: var(--sklearn-color-background);\n",
       "  border-radius: 1rem;\n",
       "  height: 1rem;\n",
       "  width: 1rem;\n",
       "  text-decoration: none;\n",
       "  /* unfitted */\n",
       "  color: var(--sklearn-color-unfitted-level-1);\n",
       "  border: var(--sklearn-color-unfitted-level-1) 1pt solid;\n",
       "}\n",
       "\n",
       "#sk-container-id-2 a.estimator_doc_link.fitted {\n",
       "  /* fitted */\n",
       "  border: var(--sklearn-color-fitted-level-1) 1pt solid;\n",
       "  color: var(--sklearn-color-fitted-level-1);\n",
       "}\n",
       "\n",
       "/* On hover */\n",
       "#sk-container-id-2 a.estimator_doc_link:hover {\n",
       "  /* unfitted */\n",
       "  background-color: var(--sklearn-color-unfitted-level-3);\n",
       "  color: var(--sklearn-color-background);\n",
       "  text-decoration: none;\n",
       "}\n",
       "\n",
       "#sk-container-id-2 a.estimator_doc_link.fitted:hover {\n",
       "  /* fitted */\n",
       "  background-color: var(--sklearn-color-fitted-level-3);\n",
       "}\n",
       "</style><div id=\"sk-container-id-2\" class=\"sk-top-container\"><div class=\"sk-text-repr-fallback\"><pre>RandomForestClassifier(max_depth=10, n_estimators=50, random_state=42)</pre><b>In a Jupyter environment, please rerun this cell to show the HTML representation or trust the notebook. <br />On GitHub, the HTML representation is unable to render, please try loading this page with nbviewer.org.</b></div><div class=\"sk-container\" hidden><div class=\"sk-item\"><div class=\"sk-estimator fitted sk-toggleable\"><input class=\"sk-toggleable__control sk-hidden--visually\" id=\"sk-estimator-id-2\" type=\"checkbox\" checked><label for=\"sk-estimator-id-2\" class=\"sk-toggleable__label fitted sk-toggleable__label-arrow\"><div><div>RandomForestClassifier</div></div><div><a class=\"sk-estimator-doc-link fitted\" rel=\"noreferrer\" target=\"_blank\" href=\"https://scikit-learn.org/1.6/modules/generated/sklearn.ensemble.RandomForestClassifier.html\">?<span>Documentation for RandomForestClassifier</span></a><span class=\"sk-estimator-doc-link fitted\">i<span>Fitted</span></span></div></label><div class=\"sk-toggleable__content fitted\"><pre>RandomForestClassifier(max_depth=10, n_estimators=50, random_state=42)</pre></div> </div></div></div></div>"
      ],
      "text/plain": [
       "RandomForestClassifier(max_depth=10, n_estimators=50, random_state=42)"
      ]
     },
     "execution_count": 52,
     "metadata": {},
     "output_type": "execute_result"
    }
   ],
   "source": [
    "# Initialize and train the model\n",
    "Model_RF2 = RandomForestClassifier(n_estimators=50, max_depth=10, random_state=42)\n",
    "Model_RF2.fit(X_train, y_train)  # No need to scale for Random Forest\n"
   ]
  },
  {
   "cell_type": "code",
   "execution_count": 53,
   "id": "b4ab5e6d",
   "metadata": {},
   "outputs": [],
   "source": [
    "\n",
    "# Make predictions\n",
    "y_pred_RF2 = Model_RF2.predict(X_test)\n"
   ]
  },
  {
   "cell_type": "code",
   "execution_count": 54,
   "id": "45fc27f6",
   "metadata": {},
   "outputs": [
    {
     "name": "stdout",
     "output_type": "stream",
     "text": [
      "Training accuracy: 99.88 %\n",
      "Testing accuracy: 99.02 %\n"
     ]
    }
   ],
   "source": [
    "\n",
    "# Quick evaluation\n",
    "Train_Accuracy_RF2 = Model_RF2.score(X_train, y_train)\n",
    "Test_Accuracy_RF2 = Model_RF2.score(X_test, y_test)\n",
    "\n",
    "print(f'Training accuracy: {Train_Accuracy_RF2*100:.2f} %')\n",
    "print(f'Testing accuracy: {Test_Accuracy_RF2*100:.2f} %')\n"
   ]
  },
  {
   "cell_type": "code",
   "execution_count": 55,
   "id": "1056b3ef",
   "metadata": {},
   "outputs": [
    {
     "name": "stdout",
     "output_type": "stream",
     "text": [
      "Cross-validation scores: [0.99085366 0.97247706 0.96636086 0.97859327 0.98776758]\n",
      "Mean accuracy: 97.92 %\n",
      "Standard deviation: 0.92 %\n"
     ]
    }
   ],
   "source": [
    "from sklearn.model_selection import cross_val_score\n",
    "\n",
    "# Perform 5-Fold Cross-Validation\n",
    "cv_scores_RF2 = cross_val_score(Model_RF2, X_train, y_train, cv=5)\n",
    "\n",
    "# Print Cross-Validation Scores\n",
    "print(f'Cross-validation scores: {cv_scores_RF2}')\n",
    "print(f'Mean accuracy: {cv_scores_RF2.mean() * 100:.2f} %')\n",
    "print(f'Standard deviation: {cv_scores_RF2.std() * 100:.2f} %')\n"
   ]
  },
  {
   "cell_type": "code",
   "execution_count": 56,
   "id": "1ec3b282",
   "metadata": {},
   "outputs": [
    {
     "data": {
      "image/png": "[encoded data removed]",
      "text/plain": [
       "<Figure size 640x480 with 2 Axes>"
      ]
     },
     "metadata": {},
     "output_type": "display_data"
    }
   ],
   "source": [
    "\n",
    "# Confusion Matrix\n",
    "CM_RF2 = confusion_matrix(y_true=y_test, y_pred=y_pred_RF2)\n",
    "ConfusionMatrixDisplay(CM_RF2, display_labels=data['Outcome'].unique()).plot()\n",
    "plt.title('Confusion Matrix Without Normalization')\n",
    "plt.show()\n"
   ]
  },
  {
   "cell_type": "code",
   "execution_count": 57,
   "id": "4cc04e43",
   "metadata": {},
   "outputs": [
    {
     "name": "stdout",
     "output_type": "stream",
     "text": [
      "              precision    recall  f1-score   support\n",
      "\n",
      "           0       1.00      0.98      0.99       213\n",
      "           1       0.98      1.00      0.99       197\n",
      "\n",
      "    accuracy                           0.99       410\n",
      "   macro avg       0.99      0.99      0.99       410\n",
      "weighted avg       0.99      0.99      0.99       410\n",
      "\n",
      "➤➤➤ Accuracy Score :  99.02 %\n",
      "\n",
      "➤➤➤ Precision Score :  98.01 %\n",
      "\n",
      "➤➤➤ Recall Score :  100.00 %\n",
      "\n",
      "➤➤➤ F1 Score :  98.99 %\n",
      "\n"
     ]
    }
   ],
   "source": [
    "\n",
    "# Classification Report\n",
    "print(classification_report(y_test, y_pred_RF2))\n",
    "\n",
    "# Accuracy\n",
    "Accuracy_RF2 = accuracy_score(y_test, y_pred_RF2)\n",
    "print(f'➤➤➤ Accuracy Score : {Accuracy_RF2 * 100 : .2f} %\\n')\n",
    "\n",
    "# Precision\n",
    "Precision_RF2 = precision_score(y_test, y_pred_RF2)\n",
    "print(f'➤➤➤ Precision Score : {Precision_RF2 * 100 : .2f} %\\n')\n",
    "\n",
    "# Recall\n",
    "Recall_RF2 = recall_score(y_test, y_pred_RF2)\n",
    "print(f'➤➤➤ Recall Score : {Recall_RF2 * 100 : .2f} %\\n')\n",
    "\n",
    "# F1 Score\n",
    "F1_Score_RF2 = f1_score(y_test, y_pred_RF2)\n",
    "print(f'➤➤➤ F1 Score : {F1_Score_RF2 * 100 : .2f} %\\n')\n"
   ]
  },
  {
   "cell_type": "code",
   "execution_count": 58,
   "id": "655e172e",
   "metadata": {},
   "outputs": [
    {
     "data": {
      "image/png": "[encoded data removed]",
      "text/plain": [
       "<Figure size 1000x600 with 1 Axes>"
      ]
     },
     "metadata": {},
     "output_type": "display_data"
    }
   ],
   "source": [
    "\n",
    "# Define the evaluation metrics and their scores\n",
    "metrics_RF2 = ['Accuracy', 'Precision', 'Recall', 'F1 Score']\n",
    "scores_RF2 = [Accuracy_RF2, Precision_RF2, Recall_RF2, F1_Score_RF2]\n",
    "\n",
    "# Plotting the bar chart\n",
    "plt.figure(figsize=(10, 6))\n",
    "plt.bar(metrics_RF2, scores_RF2, color=['blue', 'green', 'red', 'orange'])\n",
    "plt.title('Performance Metrics of Random Forest Model (RF2)')\n",
    "plt.xlabel('Metrics')\n",
    "plt.ylabel('Score')\n",
    "plt.ylim(0.1, 1)\n",
    "plt.yticks([0.1, 0.2, 0.3, 0.4, 0.5, 0.6, 0.7, 0.8, 0.9, 1.0])\n",
    "plt.grid(axis='y', alpha=1)\n",
    "plt.show()\n"
   ]
  },
  {
   "cell_type": "markdown",
   "id": "7940f7f8",
   "metadata": {},
   "source": [
    "# <font color='DarkSlateGrey'>⚑ Model Evaluation</font>"
   ]
  },
  {
   "cell_type": "markdown",
   "id": "7362e217",
   "metadata": {
    "papermill": {
     "duration": 0.034835,
     "end_time": "2024-06-16T09:05:00.917542",
     "exception": false,
     "start_time": "2024-06-16T09:05:00.882707",
     "status": "completed"
    },
    "tags": []
   },
   "source": [
    "# <font color='DarkSlateGrey'>⚑ Final Evaluation</font>"
   ]
  },
  {
   "cell_type": "code",
   "execution_count": 59,
   "id": "1ab13223",
   "metadata": {
    "execution": {
     "iopub.execute_input": "2024-06-16T09:05:00.991698Z",
     "iopub.status.busy": "2024-06-16T09:05:00.991069Z",
     "iopub.status.idle": "2024-06-16T09:05:01.258877Z",
     "shell.execute_reply": "2024-06-16T09:05:01.257458Z"
    },
    "papermill": {
     "duration": 0.308424,
     "end_time": "2024-06-16T09:05:01.261462",
     "exception": false,
     "start_time": "2024-06-16T09:05:00.953038",
     "status": "completed"
    },
    "tags": []
   },
   "outputs": [
    {
     "data": {
      "image/png": "[encoded data removed]",
      "text/plain": [
       "<Figure size 640x480 with 1 Axes>"
      ]
     },
     "metadata": {},
     "output_type": "display_data"
    }
   ],
   "source": [
    "Classifiers = ['SVM', 'logistic Regression', 'Random Forest']\n",
    "Accuracies = [(Accuracy_SVC * 100), (Accuracy_LR * 100), (Accuracy_RF2 * 100)]\n",
    "plt.bar(Classifiers, Accuracies, color=['blue', 'green', 'brown'])\n",
    "plt.title('Model Accuracy Comparison')\n",
    "plt.ylabel('Accuracy (%)')\n",
    "plt.ylim(70, 100)\n",
    "plt.grid(axis='y', alpha=1)\n",
    "plt.show()"
   ]
  },
  {
   "cell_type": "markdown",
   "id": "7d6474c5",
   "metadata": {},
   "source": [
    "# <font color='DarkSlateGrey'>⚑ Saving the best Model using pickle</font>"
   ]
  },
  {
   "cell_type": "code",
   "execution_count": null,
   "id": "5f58f317",
   "metadata": {},
   "outputs": [
    {
     "name": "stdout",
     "output_type": "stream",
     "text": [
      "Model is saved Succesfully \n"
     ]
    }
   ],
   "source": [
    "import pickle\n",
    "\n",
    "with open(\"../saved_models/diabetes_model.pkl\", \"wb\") as model:\n",
    "    pickle.dump(Model_RF2, model)\n",
    "\n",
    "print(\"Model is saved Succesfully \")\n"
   ]
  },
  {
   "cell_type": "code",
   "execution_count": 1,
   "id": "faad830e",
   "metadata": {},
   "outputs": [
    {
     "name": "stdout",
     "output_type": "stream",
     "text": [
      " Model loaded successfully!\n"
     ]
    }
   ],
   "source": [
    "import pickle  \n",
    "\n",
    "# Load the trained model\n",
    "with open(\"../saved_models/diabetes_model.pkl\", \"rb\") as model_file:\n",
    "    loaded_model = pickle.load(model_file)\n",
    "\n",
    "print(\" Model loaded successfully!\")\n"
   ]
  }
 ],
 "metadata": {
  "kaggle": {
   "accelerator": "none",
   "dataSources": [
    {
     "datasetId": 5020380,
     "sourceId": 8430310,
     "sourceType": "datasetVersion"
    }
   ],
   "dockerImageVersionId": 30698,
   "isGpuEnabled": false,
   "isInternetEnabled": true,
   "language": "python",
   "sourceType": "notebook"
  },
  "kernelspec": {
   "display_name": "venv",
   "language": "python",
   "name": "python3"
  },
  "language_info": {
   "codemirror_mode": {
    "name": "ipython",
    "version": 3
   },
   "file_extension": ".py",
   "mimetype": "text/x-python",
   "name": "python",
   "nbconvert_exporter": "python",
   "pygments_lexer": "ipython3",
   "version": "3.13.1"
  },
  "papermill": {
   "default_parameters": {},
   "duration": 16.977962,
   "end_time": "2024-06-16T09:05:02.119445",
   "environment_variables": {},
   "exception": null,
   "input_path": "__notebook__.ipynb",
   "output_path": "__notebook__.ipynb",
   "parameters": {},
   "start_time": "2024-06-16T09:04:45.141483",
   "version": "2.5.0"
  }
 },
 "nbformat": 4,
 "nbformat_minor": 5
}
